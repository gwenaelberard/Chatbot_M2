{
 "cells": [
  {
   "cell_type": "markdown",
   "metadata": {
    "colab_type": "text",
    "id": "edwEV_rCqRXu"
   },
   "source": [
    "# <font color=\"blue\">Fouille de données textuelles : projet de fin de cours</font>"
   ]
  },
  {
   "cell_type": "markdown",
   "metadata": {
    "colab_type": "text",
    "id": "yoHJLYL-qRXz"
   },
   "source": [
    "*M2 MAS parcours Science des données 2019-2020, novembre 2019*"
   ]
  },
  {
   "cell_type": "markdown",
   "metadata": {
    "colab_type": "text",
    "id": "yoHJLYL-qRXz"
   },
   "source": [
    "*BERARD Gwenaël - BIC Maxime - CHAUVIN Antoine - LANCELLE Etienne*"
   ]
  },
  {
   "cell_type": "markdown",
   "metadata": {
    "colab_type": "text",
    "id": "MKLhPG1XqRX1"
   },
   "source": [
    "### <font color=\"green\">Objectif</font>"
   ]
  },
  {
   "cell_type": "markdown",
   "metadata": {
    "colab_type": "text",
    "id": "zTu7oHhtqRX3"
   },
   "source": [
    "Création d'un agent de dialogue (informellement et souvent abusivement appelé *chatbot*) :\n",
    "+ en français. Des données conversationnelles dans des langues autres que l'anglais étant rares et pas faciles à obtenir, vous constituerez vos propres données. Le volume sera petit et votre chatbot sera donc très limité dans ses \"capacités\" ;\n",
    "+ hybride : principalement orienté vers la résolution d'une tâche (répondre à une question métier), mais comme solution de repli purement conversationnel (*chatbot* : conversation sans finalité pratique) ;\n",
    "+ approche la plus simple possible : chaque réponse de l'agent dépend uniquement du tour de parole précédent de l'usager. La conversation ne s'arrête pas, mais il n'y a pas de continuité dans le dialogue."
   ]
  },
  {
   "cell_type": "markdown",
   "metadata": {
    "colab_type": "text",
    "id": "f5fMStJ6qRX4"
   },
   "source": [
    "## **<font color=\"red\">Composantes et fonctionnement</font>**"
   ]
  },
  {
   "cell_type": "markdown",
   "metadata": {
    "colab_type": "text",
    "id": "eVSNntdzqRX5"
   },
   "source": [
    "### <font color=\"red\">1. Composante orientée tâche</font>"
   ]
  },
  {
   "cell_type": "markdown",
   "metadata": {
    "colab_type": "text",
    "id": "9vN_5AzbqRX8"
   },
   "source": [
    "Approche basée sur un corpus : l'agent retourne une réponse toute faite extraite d'un corpus préexistant (*retrieval-based* agent)."
   ]
  },
  {
   "cell_type": "markdown",
   "metadata": {
    "colab_type": "text",
    "id": "n239eyHsqRX9"
   },
   "source": [
    "#### Constitution du corpus"
   ]
  },
  {
   "cell_type": "markdown",
   "metadata": {
    "colab_type": "text",
    "id": "cULhcKClqRX_"
   },
   "source": [
    "Par Web scraping : à partir d'un site Web qui contient une section FAQ, récupérez des paires question-réponse. Plus il y aura des questions, plus ce sera intéressant.\n",
    "\n",
    "Quelques exemples :\n",
    "+ https://particulier.edf.fr/fr/accueil/aide-et-contact/aide/faq/questions-les-plus-frequentes.html (attention, il y a plusieurs pages, cliquer sur les différents onglets pour voir toutes les questions)\n",
    "+ https://fr.wikipedia.org/wiki/Aide:FAQ"
   ]
  },
  {
   "cell_type": "markdown",
   "metadata": {
    "colab_type": "text",
    "id": "r6pdP1C_qRYA"
   },
   "source": [
    "Il faut donc constituer une base de questions, chacune avec la réponse associée. Si les données s'y prêtent (questions sur des domaines bien distincts, comme [ici](https://fr.wikipedia.org/wiki/Aide:FAQ), et en nombre assez important), les questions-réponses peuvent en plus être regroupées par catégories thématiques."
   ]
  },
  {
   "cell_type": "code",
   "execution_count": 1,
   "metadata": {
    "colab": {},
    "colab_type": "code",
    "id": "J7Hp-AuUqbgD"
   },
   "outputs": [],
   "source": [
    "from bs4 import BeautifulSoup\n",
    "import requests\n",
    "\n",
    "liste_id = [\"194\",\"196\",\"478\",\"487\",\"575\"]\n",
    "liste_scrap = [] \n",
    "for i in liste_id:\n",
    "  response = requests.get(\"http://www.chateauversailles.fr/preparer-ma-visite/faq\" + \"?tid=\" + i)\n",
    "  soup = BeautifulSoup(response.text, \"html.parser\")\n",
    "  faq = soup.find(\"div\", class_ = \"view-content\").get_text()\n",
    "  for i in faq.split(\"\\n\"):\n",
    "    if i != '':\n",
    "      liste_scrap.append(i)"
   ]
  },
  {
   "cell_type": "markdown",
   "metadata": {},
   "source": [
    "Ici on importe BeautifoulSoup, nécessaire au web-scrapping. Nous avons vu sur le site que les 5 onglets de la FAQ étaient liés à des id. Nous récupérons ces id et faisons ensuite une boucle sur tous ces onglets, afin de récupérer les questions. Nous disposons alors d'une longue liste de 94 éléments, où questions et réponses sont alternées."
   ]
  },
  {
   "cell_type": "code",
   "execution_count": 2,
   "metadata": {
    "colab": {},
    "colab_type": "code",
    "id": "J5quqjb23ZGK"
   },
   "outputs": [],
   "source": [
    "liste_question = []\n",
    "liste_reponse = []\n",
    "\n",
    "for i,e in enumerate(liste_scrap):\n",
    "  if i % 2 == 0:\n",
    "    liste_question.append(e)\n",
    "  elif i % 2 != 0:\n",
    "    liste_reponse.append(e)"
   ]
  },
  {
   "cell_type": "code",
   "execution_count": 3,
   "metadata": {
    "colab": {
     "base_uri": "https://localhost:8080/",
     "height": 1000
    },
    "colab_type": "code",
    "id": "gSwPg7ceJv6r",
    "outputId": "d24536e1-4d75-4700-88e9-a6a2d46cecb0"
   },
   "outputs": [
    {
     "data": {
      "text/html": [
       "<div>\n",
       "<style scoped>\n",
       "    .dataframe tbody tr th:only-of-type {\n",
       "        vertical-align: middle;\n",
       "    }\n",
       "\n",
       "    .dataframe tbody tr th {\n",
       "        vertical-align: top;\n",
       "    }\n",
       "\n",
       "    .dataframe thead th {\n",
       "        text-align: right;\n",
       "    }\n",
       "</style>\n",
       "<table border=\"1\" class=\"dataframe\">\n",
       "  <thead>\n",
       "    <tr style=\"text-align: right;\">\n",
       "      <th></th>\n",
       "      <th>Question</th>\n",
       "      <th>Reponse</th>\n",
       "    </tr>\n",
       "  </thead>\n",
       "  <tbody>\n",
       "    <tr>\n",
       "      <th>0</th>\n",
       "      <td>Où acheter les billets ? Est-il nécessaire de ...</td>\n",
       "      <td>Réservation en ligne :Pour gagner du temps, ac...</td>\n",
       "    </tr>\n",
       "    <tr>\n",
       "      <th>1</th>\n",
       "      <td>Où dois-je me présenter avec mes billets achet...</td>\n",
       "      <td>Visite libre du Château :Si vous avez réservé ...</td>\n",
       "    </tr>\n",
       "    <tr>\n",
       "      <th>2</th>\n",
       "      <td>Quels sont les avantages et les tarifs des vis...</td>\n",
       "      <td>Lors d'une visite guidée, un conférencier du c...</td>\n",
       "    </tr>\n",
       "    <tr>\n",
       "      <th>3</th>\n",
       "      <td>Quels sont les moyens de paiement acceptés ?</td>\n",
       "      <td>Les moyens de paiement acceptés en caisse sont...</td>\n",
       "    </tr>\n",
       "    <tr>\n",
       "      <th>4</th>\n",
       "      <td>Existe-t-il un billet pour l’ensemble du Domai...</td>\n",
       "      <td>Le billet Passeport permet d’accéder à l’ensem...</td>\n",
       "    </tr>\n",
       "  </tbody>\n",
       "</table>\n",
       "</div>"
      ],
      "text/plain": [
       "                                            Question  \\\n",
       "0  Où acheter les billets ? Est-il nécessaire de ...   \n",
       "1  Où dois-je me présenter avec mes billets achet...   \n",
       "2  Quels sont les avantages et les tarifs des vis...   \n",
       "3      Quels sont les moyens de paiement acceptés ?    \n",
       "4  Existe-t-il un billet pour l’ensemble du Domai...   \n",
       "\n",
       "                                             Reponse  \n",
       "0  Réservation en ligne :Pour gagner du temps, ac...  \n",
       "1  Visite libre du Château :Si vous avez réservé ...  \n",
       "2  Lors d'une visite guidée, un conférencier du c...  \n",
       "3  Les moyens de paiement acceptés en caisse sont...  \n",
       "4  Le billet Passeport permet d’accéder à l’ensem...  "
      ]
     },
     "execution_count": 3,
     "metadata": {},
     "output_type": "execute_result"
    }
   ],
   "source": [
    "import pandas as pd\n",
    "dico = {\n",
    "    \"Question\" : liste_question,\n",
    "    \"Reponse\" : liste_reponse\n",
    "}\n",
    "data = pd.DataFrame(dico)\n",
    "data.head()"
   ]
  },
  {
   "cell_type": "markdown",
   "metadata": {},
   "source": [
    "On répartit les questions et les réponses dans les listes correspondantes, puis on rassemble la FAQ dans un DataFrame."
   ]
  },
  {
   "cell_type": "markdown",
   "metadata": {
    "colab_type": "text",
    "id": "iP8ZPoOZqRYB"
   },
   "source": [
    "#### Classification de la question"
   ]
  },
  {
   "cell_type": "markdown",
   "metadata": {
    "colab_type": "text",
    "id": "tD6JTGesqRYC"
   },
   "source": [
    "Lorsque l'agent reçoit une question, il devra décider si la question est réellement liée au domaine métier ou non. Si oui et si les données sont en plus regroupées par thématiques, une deuxième décision est à prendre : sur laquelle de ces thématiques porte la question.\n",
    "\n",
    "Si c'est une question métier, le chatbot retournera une réponse pertinente selon sa stratégie ; si non, il déclenchera la composante conversationnelle, qui produira une réponse originale.\n",
    "\n",
    "Il faut donc mettre en place une stratégie pour la prise de ces décisions et pour la sélection de la réponse."
   ]
  },
  {
   "cell_type": "markdown",
   "metadata": {
    "colab_type": "text",
    "id": "csqrZBSpqRYD"
   },
   "source": [
    "Quelle que soit l'approche il faudra d'abord :\n",
    "+ prétraiter la base de données (à faire une seule fois et à stocker). Attention, si on vectorise le corpus il faudra garder le vectoriseur (l'enregistrer comme `pickle`) pour appliquer ensuite le même vectoriseur à la question ;\n",
    "+ prétraiter la question (en temps réel)."
   ]
  },
  {
   "cell_type": "code",
   "execution_count": 4,
   "metadata": {
    "colab": {},
    "colab_type": "code",
    "id": "F1JXU-GStZoG"
   },
   "outputs": [],
   "source": [
    "import spacy\n",
    "import nltk\n",
    "nlp = spacy.load('fr_core_news_sm')"
   ]
  },
  {
   "cell_type": "markdown",
   "metadata": {},
   "source": [
    "Afin de mesurer la similarité entre la nouvelle question entrée par l'utilisateur et les questions de la base, nous allons appliquer différents traitements aux textes. Certains méthodes sont efficaces, d'autres le sont moins, nous l'allons montrer tout à l'heure."
   ]
  },
  {
   "cell_type": "code",
   "execution_count": 5,
   "metadata": {},
   "outputs": [],
   "source": [
    "def lemmatise_text(text):\n",
    "    tokeni = nlp(text)\n",
    "    lem = []\n",
    "    for i in tokeni:\n",
    "        lem.append(i.lemma_)\n",
    "    resu = \" \".join(lem)\n",
    "    resu = nlp(resu)\n",
    "    return resu"
   ]
  },
  {
   "cell_type": "markdown",
   "metadata": {},
   "source": [
    "On crée la fonction permettant de lemmatiser les questions/réponses."
   ]
  },
  {
   "cell_type": "code",
   "execution_count": 6,
   "metadata": {},
   "outputs": [],
   "source": [
    "from nltk.tokenize import word_tokenize, TweetTokenizer\n",
    "from nltk.stem import SnowballStemmer # ou: from nltk.stem.snowball import FrenchStemmer\n",
    "def stem_text(text):\n",
    "    stemmer = SnowballStemmer('french')\n",
    "    tokenizer = TweetTokenizer(strip_handles=True, reduce_len=True)\n",
    "    rac = []\n",
    "    for i in tokenizer.tokenize(text):\n",
    "        rac.append(stemmer.stem(i))\n",
    "    return(nlp(\" \".join(rac)))"
   ]
  },
  {
   "cell_type": "markdown",
   "metadata": {},
   "source": [
    "On crée la fontion permettant de créer des Stems à partir des questions/réponses."
   ]
  },
  {
   "cell_type": "code",
   "execution_count": 7,
   "metadata": {},
   "outputs": [],
   "source": [
    "def replace_words_with_pos_tag(text):\n",
    "    txt_nlp = nlp(text)\n",
    "    liste_pos = []\n",
    "    for token in txt_nlp:\n",
    "        liste_pos.append(token.pos_)\n",
    "    return(nlp(\" \".join(liste_pos)))"
   ]
  },
  {
   "cell_type": "markdown",
   "metadata": {},
   "source": [
    "On crée la fontion permettant de retrouver les catégories des mots contenus dans les questions/réponses."
   ]
  },
  {
   "cell_type": "code",
   "execution_count": 8,
   "metadata": {},
   "outputs": [
    {
     "name": "stderr",
     "output_type": "stream",
     "text": [
      "[nltk_data] Downloading package stopwords to\n",
      "[nltk_data]     C:\\Users\\berar\\AppData\\Roaming\\nltk_data...\n",
      "[nltk_data]   Package stopwords is already up-to-date!\n"
     ]
    },
    {
     "data": {
      "text/plain": [
       "True"
      ]
     },
     "execution_count": 8,
     "metadata": {},
     "output_type": "execute_result"
    }
   ],
   "source": [
    "import nltk\n",
    "nltk.download('stopwords')"
   ]
  },
  {
   "cell_type": "code",
   "execution_count": 9,
   "metadata": {},
   "outputs": [],
   "source": [
    "sw = nltk.corpus.stopwords.words('french')\n",
    "sw += ['être', 'avoir', 'al']\n",
    "def virer_sw(text):\n",
    "    txt_nlp = nlp(text)\n",
    "    liste_mot = []\n",
    "    for token in txt_nlp:\n",
    "        if str(token) not in sw:\n",
    "            liste_mot.append(str(token))\n",
    "    return(nlp(\" \".join(liste_mot)))"
   ]
  },
  {
   "cell_type": "markdown",
   "metadata": {},
   "source": [
    "On crée la fonction permettant de retirer les mots vides des questions/réponses."
   ]
  },
  {
   "cell_type": "code",
   "execution_count": 10,
   "metadata": {},
   "outputs": [
    {
     "data": {
      "text/html": [
       "<div>\n",
       "<style scoped>\n",
       "    .dataframe tbody tr th:only-of-type {\n",
       "        vertical-align: middle;\n",
       "    }\n",
       "\n",
       "    .dataframe tbody tr th {\n",
       "        vertical-align: top;\n",
       "    }\n",
       "\n",
       "    .dataframe thead th {\n",
       "        text-align: right;\n",
       "    }\n",
       "</style>\n",
       "<table border=\"1\" class=\"dataframe\">\n",
       "  <thead>\n",
       "    <tr style=\"text-align: right;\">\n",
       "      <th></th>\n",
       "      <th>Question</th>\n",
       "      <th>Question_token</th>\n",
       "      <th>Question_lemme</th>\n",
       "      <th>Question_stem</th>\n",
       "      <th>Question_pos</th>\n",
       "      <th>Question_sw</th>\n",
       "    </tr>\n",
       "  </thead>\n",
       "  <tbody>\n",
       "    <tr>\n",
       "      <th>0</th>\n",
       "      <td>Où acheter les billets ? Est-il nécessaire de ...</td>\n",
       "      <td>(Où, acheter, les, billets, ?, Est, -, il, néc...</td>\n",
       "      <td>(où, acheter, le, billet, ?, être, -, il, néce...</td>\n",
       "      <td>(où, achet, le, billet, ?, est-il, nécessair, ...</td>\n",
       "      <td>(ADV, VERB, DET, NOUN, PUNCT, VERB, PUNCT, PRO...</td>\n",
       "      <td>(Où, acheter, billets, ?, Est, -, nécessaire, ...</td>\n",
       "    </tr>\n",
       "    <tr>\n",
       "      <th>1</th>\n",
       "      <td>Où dois-je me présenter avec mes billets achet...</td>\n",
       "      <td>(Où, dois, -, je, me, présenter, avec, mes, bi...</td>\n",
       "      <td>(où, devoir, -, je, me, présenter, avec, mon, ...</td>\n",
       "      <td>(où, dois, -, j, me, présent, avec, me, billet...</td>\n",
       "      <td>(ADV, AUX, PUNCT, PRON, PRON, VERB, ADP, DET, ...</td>\n",
       "      <td>(Où, dois, -, présenter, billets, achetés, pré...</td>\n",
       "    </tr>\n",
       "    <tr>\n",
       "      <th>2</th>\n",
       "      <td>Quels sont les avantages et les tarifs des vis...</td>\n",
       "      <td>(Quels, sont, les, avantages, et, les, tarifs,...</td>\n",
       "      <td>(quel, être, le, avantage, et, le, tarif, un, ...</td>\n",
       "      <td>(quel, sont, le, avantag, et, le, tarif, de, v...</td>\n",
       "      <td>(ADJ, AUX, DET, NOUN, CCONJ, DET, NOUN, DET, N...</td>\n",
       "      <td>(Quels, avantages, tarifs, visites, guidées, ?)</td>\n",
       "    </tr>\n",
       "    <tr>\n",
       "      <th>3</th>\n",
       "      <td>Quels sont les moyens de paiement acceptés ?</td>\n",
       "      <td>(Quels, sont, les, moyens, de, paiement, accep...</td>\n",
       "      <td>(quel, être, le, moyen, de, paiement, accepter...</td>\n",
       "      <td>(quel, sont, le, moyen, de, pai, accept, ?)</td>\n",
       "      <td>(ADJ, AUX, DET, NOUN, ADP, NOUN, VERB, PUNCT)</td>\n",
       "      <td>(Quels, moyens, paiement, acceptés, ?)</td>\n",
       "    </tr>\n",
       "    <tr>\n",
       "      <th>4</th>\n",
       "      <td>Existe-t-il un billet pour l’ensemble du Domai...</td>\n",
       "      <td>(Existe, -, t, -, il, un, billet, pour, l’, en...</td>\n",
       "      <td>(existe, -, t, -, il, un, billet, pour, l, ’, ...</td>\n",
       "      <td>(existe, -, t, -, il, un, billet, pour, l, ’, ...</td>\n",
       "      <td>(NOUN, PUNCT, NOUN, PUNCT, PRON, DET, NOUN, AD...</td>\n",
       "      <td>(Existe, -, -, billet, l, ’, ensemble, Domaine...</td>\n",
       "    </tr>\n",
       "    <tr>\n",
       "      <th>5</th>\n",
       "      <td>Combien coûte un billet pour le château de Ver...</td>\n",
       "      <td>(Combien, coûte, un, billet, pour, le, château...</td>\n",
       "      <td>(combien, coûte, un, billet, pour, le, château...</td>\n",
       "      <td>(combien, coût, un, billet, pour, le, château,...</td>\n",
       "      <td>(ADV, VERB, DET, NOUN, ADP, DET, NOUN, ADP, NO...</td>\n",
       "      <td>(Combien, coûte, billet, château, Versailles, ...</td>\n",
       "    </tr>\n",
       "    <tr>\n",
       "      <th>6</th>\n",
       "      <td>Comment éviter les files d'attente aux caisses ?</td>\n",
       "      <td>(Comment, éviter, les, files, d', attente, aux...</td>\n",
       "      <td>(comment, éviter, le, file, de, attente, al, c...</td>\n",
       "      <td>(comment, évit, le, fil, d', attent, aux, cais...</td>\n",
       "      <td>(ADV, VERB, DET, NOUN, ADP, NOUN, ADJ, NOUN, P...</td>\n",
       "      <td>(Comment, éviter, files, d, ', attente, caisse...</td>\n",
       "    </tr>\n",
       "    <tr>\n",
       "      <th>7</th>\n",
       "      <td>Ai-je besoin d'un billet si je bénéficie de la...</td>\n",
       "      <td>(Ai, -, je, besoin, d', un, billet, si, je, bé...</td>\n",
       "      <td>(ai, -, je, besoin, de, un, billet, si, je, bé...</td>\n",
       "      <td>(ai, -, j, besoin, d', un, billet, si, je, bén...</td>\n",
       "      <td>(NOUN, PUNCT, PRON, NOUN, ADP, DET, NOUN, SCON...</td>\n",
       "      <td>(Ai, -, besoin, d, ', billet, si, bénéficie, g...</td>\n",
       "    </tr>\n",
       "    <tr>\n",
       "      <th>8</th>\n",
       "      <td>Les jardins sont-ils payants les jours de Gran...</td>\n",
       "      <td>(Les, jardins, sont, -, ils, payants, les, jou...</td>\n",
       "      <td>(le, jardin, être, -, il, payant, le, jour, de...</td>\n",
       "      <td>(le, jardin, sont, -, il, pai, le, jour, de, g...</td>\n",
       "      <td>(DET, NOUN, AUX, PUNCT, PRON, NOUN, DET, NOUN,...</td>\n",
       "      <td>(Les, jardins, -, payants, jours, Grandes, Eau...</td>\n",
       "    </tr>\n",
       "    <tr>\n",
       "      <th>9</th>\n",
       "      <td>Puis-je venir avec des bagages volumineux au C...</td>\n",
       "      <td>(Puis, -, je, venir, avec, des, bagages, volum...</td>\n",
       "      <td>(puis, -, je, venir, avec, un, bagage, volumin...</td>\n",
       "      <td>(puis, -, j, ven, avec, de, bagag, volumin, au...</td>\n",
       "      <td>(CCONJ, PUNCT, PRON, VERB, ADP, DET, NOUN, ADJ...</td>\n",
       "      <td>(Puis, -, venir, bagages, volumineux, Château, ?)</td>\n",
       "    </tr>\n",
       "    <tr>\n",
       "      <th>10</th>\n",
       "      <td>Les poussettes sont-elles acceptées à l'intéri...</td>\n",
       "      <td>(Les, poussettes, sont, -, elles, acceptées, à...</td>\n",
       "      <td>(le, poussette, être, -, lui, accepter, à, le,...</td>\n",
       "      <td>(le, pousset, sont, -, el, accept, à, l', inté...</td>\n",
       "      <td>(DET, NOUN, AUX, PUNCT, PRON, VERB, ADP, DET, ...</td>\n",
       "      <td>(Les, poussettes, -, elles, acceptées, l, ', i...</td>\n",
       "    </tr>\n",
       "    <tr>\n",
       "      <th>11</th>\n",
       "      <td>À qui dois-je m'adresser pour obtenir des rens...</td>\n",
       "      <td>(À, qui, dois, -, je, m', adresser, pour, obte...</td>\n",
       "      <td>(à, qui, devoir, -, je, me, adresser, pour, ob...</td>\n",
       "      <td>(à, qui, dois, -, j, m', adress, pour, obten, ...</td>\n",
       "      <td>(ADP, PRON, AUX, PUNCT, PRON, PRON, VERB, ADP,...</td>\n",
       "      <td>(À, dois, -, m, ', adresser, obtenir, renseign...</td>\n",
       "    </tr>\n",
       "    <tr>\n",
       "      <th>12</th>\n",
       "      <td>Quels sont les accès au Château ?</td>\n",
       "      <td>(Quels, sont, les, accès, au, Château, ?)</td>\n",
       "      <td>(quel, être, le, accès, au, château, ?)</td>\n",
       "      <td>(quel, sont, le, acces, au, château, ?)</td>\n",
       "      <td>(ADJ, AUX, DET, NOUN, ADP, NOUN, PUNCT)</td>\n",
       "      <td>(Quels, accès, Château, ?)</td>\n",
       "    </tr>\n",
       "    <tr>\n",
       "      <th>13</th>\n",
       "      <td>Quelles sont les modalités d’accès pour les en...</td>\n",
       "      <td>(Quelles, sont, les, modalités, d’, accès, pou...</td>\n",
       "      <td>(quelle, être, le, modalité, d, ’, accès, pour...</td>\n",
       "      <td>(quel, sont, le, modal, d, ’, acces, pour, le,...</td>\n",
       "      <td>(ADJ, AUX, DET, NOUN, DET, NOUN, ADP, DET, NOU...</td>\n",
       "      <td>(Quelles, modalités, d, ’, accès, enfants, bas...</td>\n",
       "    </tr>\n",
       "    <tr>\n",
       "      <th>14</th>\n",
       "      <td>Quels sont les espaces auxquels je peux accéde...</td>\n",
       "      <td>(Quels, sont, les, espaces, auxquels, je, peux...</td>\n",
       "      <td>(quel, être, le, espace, auxquel, je, pouvoir,...</td>\n",
       "      <td>(quel, sont, le, espac, auxquel, je, peux, acc...</td>\n",
       "      <td>(ADJ, AUX, DET, NOUN, ADJ, PRON, AUX, VERB, AD...</td>\n",
       "      <td>(Quels, espaces, auxquels, peux, accéder, bill...</td>\n",
       "    </tr>\n",
       "    <tr>\n",
       "      <th>15</th>\n",
       "      <td>Avec quels billets puis-je accéder aux exposit...</td>\n",
       "      <td>(Avec, quels, billets, puis, -, je, accéder, a...</td>\n",
       "      <td>(avec, quel, billet, puis, -, je, accéder, al,...</td>\n",
       "      <td>(avec, quel, billet, puis, -, j, acced, aux, e...</td>\n",
       "      <td>(ADP, ADJ, NOUN, CCONJ, PUNCT, PRON, VERB, ADJ...</td>\n",
       "      <td>(Avec, quels, billets, puis, -, accéder, expos...</td>\n",
       "    </tr>\n",
       "    <tr>\n",
       "      <th>16</th>\n",
       "      <td>Puis-je venir avec des bagages volumineux au C...</td>\n",
       "      <td>(Puis, -, je, venir, avec, des, bagages, volum...</td>\n",
       "      <td>(puis, -, je, venir, avec, un, bagage, volumin...</td>\n",
       "      <td>(puis, -, j, ven, avec, de, bagag, volumin, au...</td>\n",
       "      <td>(CCONJ, PUNCT, PRON, VERB, ADP, DET, NOUN, ADJ...</td>\n",
       "      <td>(Puis, -, venir, bagages, volumineux, Château, ?)</td>\n",
       "    </tr>\n",
       "    <tr>\n",
       "      <th>17</th>\n",
       "      <td>Les poussettes sont-elles acceptées à l'intéri...</td>\n",
       "      <td>(Les, poussettes, sont, -, elles, acceptées, à...</td>\n",
       "      <td>(le, poussette, être, -, lui, accepter, à, le,...</td>\n",
       "      <td>(le, pousset, sont, -, el, accept, à, l', inté...</td>\n",
       "      <td>(DET, NOUN, AUX, PUNCT, PRON, VERB, ADP, DET, ...</td>\n",
       "      <td>(Les, poussettes, -, elles, acceptées, l, ', i...</td>\n",
       "    </tr>\n",
       "    <tr>\n",
       "      <th>18</th>\n",
       "      <td>Où sont les toilettes et les tables à langer ?</td>\n",
       "      <td>(Où, sont, les, toilettes, et, les, tables, à,...</td>\n",
       "      <td>(où, être, le, toilette, et, le, table, à, lan...</td>\n",
       "      <td>(où, sont, le, toilet, et, le, tabl, à, lang, ?)</td>\n",
       "      <td>(ADV, AUX, DET, NOUN, CCONJ, DET, NOUN, ADP, V...</td>\n",
       "      <td>(Où, toilettes, tables, langer, ?)</td>\n",
       "    </tr>\n",
       "    <tr>\n",
       "      <th>19</th>\n",
       "      <td>Quelles sont les activités proposées aux famil...</td>\n",
       "      <td>(Quelles, sont, les, activités, proposées, aux...</td>\n",
       "      <td>(quelle, être, le, activité, proposer, al, fam...</td>\n",
       "      <td>(quel, sont, le, activ, propos, aux, famill, ?)</td>\n",
       "      <td>(ADJ, AUX, DET, NOUN, VERB, ADJ, NOUN, PUNCT)</td>\n",
       "      <td>(Quelles, activités, proposées, familles, ?)</td>\n",
       "    </tr>\n",
       "    <tr>\n",
       "      <th>20</th>\n",
       "      <td>Comment présenter le château de Versailles aux...</td>\n",
       "      <td>(Comment, présenter, le, château, de, Versaill...</td>\n",
       "      <td>(comment, présenter, le, château, de, versaill...</td>\n",
       "      <td>(comment, présent, le, château, de, versaill, ...</td>\n",
       "      <td>(ADV, VERB, DET, NOUN, ADP, NOUN, NOUN, NOUN, ...</td>\n",
       "      <td>(Comment, présenter, château, Versailles, enfa...</td>\n",
       "    </tr>\n",
       "    <tr>\n",
       "      <th>21</th>\n",
       "      <td>Existe-t-il des parcours de visite adaptés aux...</td>\n",
       "      <td>(Existe, -, t, -, il, des, parcours, de, visit...</td>\n",
       "      <td>(existe, -, t, -, il, un, parcours, de, visite...</td>\n",
       "      <td>(existe, -, t, -, il, de, parcour, de, visit, ...</td>\n",
       "      <td>(NOUN, PUNCT, NOUN, PUNCT, PRON, DET, NOUN, AD...</td>\n",
       "      <td>(Existe, -, -, parcours, visite, adaptés, enfa...</td>\n",
       "    </tr>\n",
       "    <tr>\n",
       "      <th>22</th>\n",
       "      <td>Où dois-je me rendre à mon arrivée au Château ?</td>\n",
       "      <td>(Où, dois, -, je, me, rendre, à, mon, arrivée,...</td>\n",
       "      <td>(où, devoir, -, je, me, rendre, à, mon, arrivé...</td>\n",
       "      <td>(où, dois, -, j, me, rendr, à, mon, arriv, au,...</td>\n",
       "      <td>(ADV, AUX, PUNCT, PRON, PRON, VERB, ADP, DET, ...</td>\n",
       "      <td>(Où, dois, -, rendre, arrivée, Château, ?)</td>\n",
       "    </tr>\n",
       "    <tr>\n",
       "      <th>23</th>\n",
       "      <td>Une fois l'activité famille terminée, avons-no...</td>\n",
       "      <td>(Une, fois, l', activité, famille, terminée, ,...</td>\n",
       "      <td>(un, fois, le, activité, famill, terminer, ,, ...</td>\n",
       "      <td>(une, fois, l', activ, famill, termin, ,, avon...</td>\n",
       "      <td>(DET, NOUN, DET, NOUN, ADJ, VERB, PUNCT, NOUN,...</td>\n",
       "      <td>(Une, fois, l, ', activité, famille, terminée,...</td>\n",
       "    </tr>\n",
       "    <tr>\n",
       "      <th>24</th>\n",
       "      <td>Puis-je réserver une activité pour une famille...</td>\n",
       "      <td>(Puis, -, je, réserver, une, activité, pour, u...</td>\n",
       "      <td>(puis, -, je, réserver, un, activité, pour, un...</td>\n",
       "      <td>(puis, -, j, réserv, une, activ, pour, une, fa...</td>\n",
       "      <td>(CCONJ, PUNCT, PRON, VERB, DET, NOUN, ADP, DET...</td>\n",
       "      <td>(Puis, -, réserver, activité, famille, seule, ?)</td>\n",
       "    </tr>\n",
       "    <tr>\n",
       "      <th>25</th>\n",
       "      <td>Avons-nous accès à une consigne pour déposer n...</td>\n",
       "      <td>(Avons, -, nous, accès, à, une, consigne, pour...</td>\n",
       "      <td>(avoir, -, nous, accès, à, un, consigne, pour,...</td>\n",
       "      <td>(avons, -, nous, acces, à, une, consign, pour,...</td>\n",
       "      <td>(AUX, PUNCT, PRON, VERB, ADP, DET, NOUN, ADP, ...</td>\n",
       "      <td>(Avons, -, accès, consigne, déposer, affaires, ?)</td>\n",
       "    </tr>\n",
       "    <tr>\n",
       "      <th>26</th>\n",
       "      <td>Sommes-nous autorisés à prendre des photos dan...</td>\n",
       "      <td>(Sommes, -, nous, autorisés, à, prendre, des, ...</td>\n",
       "      <td>(somme, -, nous, autoriser, à, prendre, un, ph...</td>\n",
       "      <td>(sommes, -, nous, autoris, à, prendr, de, phot...</td>\n",
       "      <td>(NOUN, PUNCT, PRON, VERB, ADP, VERB, DET, NOUN...</td>\n",
       "      <td>(Sommes, -, autorisés, prendre, photos, Châtea...</td>\n",
       "    </tr>\n",
       "    <tr>\n",
       "      <th>27</th>\n",
       "      <td>Que faire si je perds mon enfant dans les sall...</td>\n",
       "      <td>(Que, faire, si, je, perds, mon, enfant, dans,...</td>\n",
       "      <td>(que, faire, si, je, perdre, mon, enfant, dans...</td>\n",
       "      <td>(que, fair, si, je, perd, mon, enfant, dan, le...</td>\n",
       "      <td>(PRON, VERB, SCONJ, PRON, VERB, DET, NOUN, ADP...</td>\n",
       "      <td>(Que, faire, si, perds, enfant, salles, ?)</td>\n",
       "    </tr>\n",
       "    <tr>\n",
       "      <th>28</th>\n",
       "      <td>Les activités famille qui se déroulent dans le...</td>\n",
       "      <td>(Les, activités, famille, qui, se, déroulent, ...</td>\n",
       "      <td>(le, activité, famille, qui, se, dérouler, dan...</td>\n",
       "      <td>(le, activ, famill, qui, se, déroulent, dan, l...</td>\n",
       "      <td>(DET, NOUN, VERB, PRON, PRON, VERB, ADP, DET, ...</td>\n",
       "      <td>(Les, activités, famille, déroulent, jardins, ...</td>\n",
       "    </tr>\n",
       "    <tr>\n",
       "      <th>29</th>\n",
       "      <td>Où pique-niquer ?</td>\n",
       "      <td>(Où, pique-niquer, ?)</td>\n",
       "      <td>(où, pique-niquer, ?)</td>\n",
       "      <td>(où, pique-niqu, ?)</td>\n",
       "      <td>(ADV, VERB, PUNCT)</td>\n",
       "      <td>(Où, pique-niquer, ?)</td>\n",
       "    </tr>\n",
       "    <tr>\n",
       "      <th>30</th>\n",
       "      <td>À qui dois-je m'adresser pour obtenir des rens...</td>\n",
       "      <td>(À, qui, dois, -, je, m', adresser, pour, obte...</td>\n",
       "      <td>(à, qui, devoir, -, je, me, adresser, pour, ob...</td>\n",
       "      <td>(à, qui, dois, -, j, m', adress, pour, obten, ...</td>\n",
       "      <td>(ADP, PRON, AUX, PUNCT, PRON, PRON, VERB, ADP,...</td>\n",
       "      <td>(À, dois, -, m, ', adresser, obtenir, renseign...</td>\n",
       "    </tr>\n",
       "    <tr>\n",
       "      <th>31</th>\n",
       "      <td>Comment préparer au mieux ma visite ?</td>\n",
       "      <td>(Comment, préparer, au, mieux, ma, visite, ?)</td>\n",
       "      <td>(comment, préparer, au, mieux, mon, visite, ?)</td>\n",
       "      <td>(comment, prépar, au, mieux, ma, visit, ?)</td>\n",
       "      <td>(ADV, VERB, NOUN, ADV, DET, NOUN, PUNCT)</td>\n",
       "      <td>(Comment, préparer, mieux, visite, ?)</td>\n",
       "    </tr>\n",
       "    <tr>\n",
       "      <th>32</th>\n",
       "      <td>La visite des Grands appartements est-elle sys...</td>\n",
       "      <td>(La, visite, des, Grands, appartements, est-el...</td>\n",
       "      <td>(le, visite, un, grand, appartement, est-elle,...</td>\n",
       "      <td>(la, visit, de, grand, appart, est-el, systéma...</td>\n",
       "      <td>(DET, NOUN, DET, ADJ, NOUN, VERB, ADV, VERB, A...</td>\n",
       "      <td>(La, visite, Grands, appartements, est-elle, s...</td>\n",
       "    </tr>\n",
       "    <tr>\n",
       "      <th>33</th>\n",
       "      <td>Comment se déroulent les visites scolaires les...</td>\n",
       "      <td>(Comment, se, déroulent, les, visites, scolair...</td>\n",
       "      <td>(comment, se, dérouler, le, visite, scolaire, ...</td>\n",
       "      <td>(comment, se, déroulent, le, visit, scolair, l...</td>\n",
       "      <td>(ADV, PRON, VERB, DET, NOUN, ADJ, DET, NOUN, P...</td>\n",
       "      <td>(Comment, déroulent, visites, scolaires, lundi...</td>\n",
       "    </tr>\n",
       "    <tr>\n",
       "      <th>34</th>\n",
       "      <td>Comment compléter votre activité, atelier ou v...</td>\n",
       "      <td>(Comment, compléter, votre, activité, ,, ateli...</td>\n",
       "      <td>(comment, compléter, votre, activité, ,, ateli...</td>\n",
       "      <td>(comment, complet, votr, activ, ,, ateli, ou, ...</td>\n",
       "      <td>(ADV, VERB, DET, NOUN, PUNCT, NOUN, CCONJ, NOU...</td>\n",
       "      <td>(Comment, compléter, activité, ,, atelier, vis...</td>\n",
       "    </tr>\n",
       "    <tr>\n",
       "      <th>35</th>\n",
       "      <td>Puis-je venir avec ma classe sans réservation ?</td>\n",
       "      <td>(Puis, -, je, venir, avec, ma, classe, sans, r...</td>\n",
       "      <td>(puis, -, je, venir, avec, mon, classe, sans, ...</td>\n",
       "      <td>(puis, -, j, ven, avec, ma, class, san, réserv...</td>\n",
       "      <td>(CCONJ, PUNCT, PRON, VERB, ADP, DET, NOUN, ADP...</td>\n",
       "      <td>(Puis, -, venir, classe, sans, réservation, ?)</td>\n",
       "    </tr>\n",
       "    <tr>\n",
       "      <th>36</th>\n",
       "      <td>Puis-je venir visiter le Château avant d'y emm...</td>\n",
       "      <td>(Puis, -, je, venir, visiter, le, Château, ava...</td>\n",
       "      <td>(puis, -, je, venir, visiter, le, château, ava...</td>\n",
       "      <td>(puis, -, j, ven, visit, le, château, avant, d...</td>\n",
       "      <td>(CCONJ, PUNCT, PRON, VERB, VERB, DET, NOUN, AD...</td>\n",
       "      <td>(Puis, -, venir, visiter, Château, avant, d, '...</td>\n",
       "    </tr>\n",
       "    <tr>\n",
       "      <th>37</th>\n",
       "      <td>Puis-je venir visiter les jardins gratuitement...</td>\n",
       "      <td>(Puis, -, je, venir, visiter, les, jardins, gr...</td>\n",
       "      <td>(puis, -, je, venir, visiter, le, jardin, grat...</td>\n",
       "      <td>(puis, -, j, ven, visit, le, jardin, gratuit, ...</td>\n",
       "      <td>(CCONJ, PUNCT, PRON, VERB, VERB, DET, NOUN, VE...</td>\n",
       "      <td>(Puis, -, venir, visiter, jardins, gratuitemen...</td>\n",
       "    </tr>\n",
       "    <tr>\n",
       "      <th>38</th>\n",
       "      <td>Comment réserver une visite avec ma classe ?</td>\n",
       "      <td>(Comment, réserver, une, visite, avec, ma, cla...</td>\n",
       "      <td>(comment, réserver, un, visite, avec, mon, cla...</td>\n",
       "      <td>(comment, réserv, une, visit, avec, ma, class, ?)</td>\n",
       "      <td>(ADV, VERB, DET, NOUN, ADP, DET, NOUN, PUNCT)</td>\n",
       "      <td>(Comment, réserver, visite, classe, ?)</td>\n",
       "    </tr>\n",
       "    <tr>\n",
       "      <th>39</th>\n",
       "      <td>Comment puis-je modifier les informations prés...</td>\n",
       "      <td>(Comment, puis, -, je, modifier, les, informat...</td>\n",
       "      <td>(comment, puis, -, je, modifier, le, informati...</td>\n",
       "      <td>(comment, puis, -, j, modifi, le, inform, prés...</td>\n",
       "      <td>(ADV, CCONJ, PUNCT, PRON, VERB, DET, NOUN, ADJ...</td>\n",
       "      <td>(Comment, puis, -, modifier, informations, pré...</td>\n",
       "    </tr>\n",
       "    <tr>\n",
       "      <th>40</th>\n",
       "      <td>Comment accéder à la billetterie en ligne rése...</td>\n",
       "      <td>(Comment, accéder, à, la, billetterie, en, lig...</td>\n",
       "      <td>(comment, accéder, à, le, billetterie, en, lig...</td>\n",
       "      <td>(comment, acced, à, la, billetter, en, lign, r...</td>\n",
       "      <td>(ADV, VERB, ADP, DET, NOUN, ADP, NOUN, VERB, N...</td>\n",
       "      <td>(Comment, accéder, billetterie, ligne, réservé...</td>\n",
       "    </tr>\n",
       "    <tr>\n",
       "      <th>41</th>\n",
       "      <td>A partir de quelle date puis-je réserver une v...</td>\n",
       "      <td>(A, partir, de, quelle, date, puis, -, je, rés...</td>\n",
       "      <td>(avoir, partir, de, quel, date, puis, -, je, r...</td>\n",
       "      <td>(a, part, de, quel, dat, puis, -, j, réserv, u...</td>\n",
       "      <td>(AUX, VERB, ADP, DET, NOUN, CCONJ, PUNCT, PRON...</td>\n",
       "      <td>(A, partir, quelle, date, puis, -, réserver, v...</td>\n",
       "    </tr>\n",
       "    <tr>\n",
       "      <th>42</th>\n",
       "      <td>Comment confirmer ma réservation ?</td>\n",
       "      <td>(Comment, confirmer, ma, réservation, ?)</td>\n",
       "      <td>(comment, confirmer, mon, réservation, ?)</td>\n",
       "      <td>(comment, confirm, ma, réserv, ?)</td>\n",
       "      <td>(ADV, VERB, DET, NOUN, PUNCT)</td>\n",
       "      <td>(Comment, confirmer, réservation, ?)</td>\n",
       "    </tr>\n",
       "    <tr>\n",
       "      <th>43</th>\n",
       "      <td>Comment annuler ou modifier ma réservation ?</td>\n",
       "      <td>(Comment, annuler, ou, modifier, ma, réservati...</td>\n",
       "      <td>(comment, annuler, ou, modifier, mon, réservat...</td>\n",
       "      <td>(comment, annul, ou, modifi, ma, réserv, ?)</td>\n",
       "      <td>(ADV, VERB, CCONJ, NOUN, DET, NOUN, PUNCT)</td>\n",
       "      <td>(Comment, annuler, modifier, réservation, ?)</td>\n",
       "    </tr>\n",
       "    <tr>\n",
       "      <th>44</th>\n",
       "      <td>Combien d'élèves et d'accompagnateurs peuvent ...</td>\n",
       "      <td>(Combien, d', élèves, et, d', accompagnateurs,...</td>\n",
       "      <td>(combien, de, élève, et, de, accompagnateur, p...</td>\n",
       "      <td>(combien, d', élev, et, d', accompagn, peuvent...</td>\n",
       "      <td>(ADV, ADP, ADJ, CCONJ, ADP, NOUN, AUX, VERB, D...</td>\n",
       "      <td>(Combien, d, ', élèves, d, ', accompagnateurs,...</td>\n",
       "    </tr>\n",
       "    <tr>\n",
       "      <th>45</th>\n",
       "      <td>Mon groupe comprend un jeune en situation de h...</td>\n",
       "      <td>(Mon, groupe, comprend, un, jeune, en, situati...</td>\n",
       "      <td>(mon, groupe, comprendre, un, jeune, en, situa...</td>\n",
       "      <td>(mon, group, comprend, un, jeun, en, situat, d...</td>\n",
       "      <td>(DET, NOUN, VERB, DET, ADJ, ADP, NOUN, ADP, NO...</td>\n",
       "      <td>(Mon, groupe, comprend, jeune, situation, hand...</td>\n",
       "    </tr>\n",
       "    <tr>\n",
       "      <th>46</th>\n",
       "      <td>Comment venir au Château ?</td>\n",
       "      <td>(Comment, venir, au, Château, ?)</td>\n",
       "      <td>(comment, venir, au, château, ?)</td>\n",
       "      <td>(comment, ven, au, château, ?)</td>\n",
       "      <td>(ADV, VERB, ADP, NOUN, PUNCT)</td>\n",
       "      <td>(Comment, venir, Château, ?)</td>\n",
       "    </tr>\n",
       "    <tr>\n",
       "      <th>47</th>\n",
       "      <td>Puis-je faire déjeuner mon groupe sur place ?</td>\n",
       "      <td>(Puis, -, je, faire, déjeuner, mon, groupe, su...</td>\n",
       "      <td>(puis, -, je, faire, déjeuner, mon, groupe, su...</td>\n",
       "      <td>(puis, -, j, fair, déjeun, mon, group, sur, pl...</td>\n",
       "      <td>(CCONJ, PUNCT, PRON, VERB, VERB, DET, NOUN, AD...</td>\n",
       "      <td>(Puis, -, faire, déjeuner, groupe, place, ?)</td>\n",
       "    </tr>\n",
       "  </tbody>\n",
       "</table>\n",
       "</div>"
      ],
      "text/plain": [
       "                                             Question  \\\n",
       "0   Où acheter les billets ? Est-il nécessaire de ...   \n",
       "1   Où dois-je me présenter avec mes billets achet...   \n",
       "2   Quels sont les avantages et les tarifs des vis...   \n",
       "3       Quels sont les moyens de paiement acceptés ?    \n",
       "4   Existe-t-il un billet pour l’ensemble du Domai...   \n",
       "5   Combien coûte un billet pour le château de Ver...   \n",
       "6    Comment éviter les files d'attente aux caisses ?   \n",
       "7   Ai-je besoin d'un billet si je bénéficie de la...   \n",
       "8   Les jardins sont-ils payants les jours de Gran...   \n",
       "9   Puis-je venir avec des bagages volumineux au C...   \n",
       "10  Les poussettes sont-elles acceptées à l'intéri...   \n",
       "11  À qui dois-je m'adresser pour obtenir des rens...   \n",
       "12                  Quels sont les accès au Château ?   \n",
       "13  Quelles sont les modalités d’accès pour les en...   \n",
       "14  Quels sont les espaces auxquels je peux accéde...   \n",
       "15  Avec quels billets puis-je accéder aux exposit...   \n",
       "16  Puis-je venir avec des bagages volumineux au C...   \n",
       "17  Les poussettes sont-elles acceptées à l'intéri...   \n",
       "18     Où sont les toilettes et les tables à langer ?   \n",
       "19  Quelles sont les activités proposées aux famil...   \n",
       "20  Comment présenter le château de Versailles aux...   \n",
       "21  Existe-t-il des parcours de visite adaptés aux...   \n",
       "22    Où dois-je me rendre à mon arrivée au Château ?   \n",
       "23  Une fois l'activité famille terminée, avons-no...   \n",
       "24  Puis-je réserver une activité pour une famille...   \n",
       "25  Avons-nous accès à une consigne pour déposer n...   \n",
       "26  Sommes-nous autorisés à prendre des photos dan...   \n",
       "27  Que faire si je perds mon enfant dans les sall...   \n",
       "28  Les activités famille qui se déroulent dans le...   \n",
       "29                                  Où pique-niquer ?   \n",
       "30  À qui dois-je m'adresser pour obtenir des rens...   \n",
       "31              Comment préparer au mieux ma visite ?   \n",
       "32  La visite des Grands appartements est-elle sys...   \n",
       "33  Comment se déroulent les visites scolaires les...   \n",
       "34  Comment compléter votre activité, atelier ou v...   \n",
       "35    Puis-je venir avec ma classe sans réservation ?   \n",
       "36  Puis-je venir visiter le Château avant d'y emm...   \n",
       "37  Puis-je venir visiter les jardins gratuitement...   \n",
       "38       Comment réserver une visite avec ma classe ?   \n",
       "39  Comment puis-je modifier les informations prés...   \n",
       "40  Comment accéder à la billetterie en ligne rése...   \n",
       "41  A partir de quelle date puis-je réserver une v...   \n",
       "42                 Comment confirmer ma réservation ?   \n",
       "43       Comment annuler ou modifier ma réservation ?   \n",
       "44  Combien d'élèves et d'accompagnateurs peuvent ...   \n",
       "45  Mon groupe comprend un jeune en situation de h...   \n",
       "46                         Comment venir au Château ?   \n",
       "47      Puis-je faire déjeuner mon groupe sur place ?   \n",
       "\n",
       "                                       Question_token  \\\n",
       "0   (Où, acheter, les, billets, ?, Est, -, il, néc...   \n",
       "1   (Où, dois, -, je, me, présenter, avec, mes, bi...   \n",
       "2   (Quels, sont, les, avantages, et, les, tarifs,...   \n",
       "3   (Quels, sont, les, moyens, de, paiement, accep...   \n",
       "4   (Existe, -, t, -, il, un, billet, pour, l’, en...   \n",
       "5   (Combien, coûte, un, billet, pour, le, château...   \n",
       "6   (Comment, éviter, les, files, d', attente, aux...   \n",
       "7   (Ai, -, je, besoin, d', un, billet, si, je, bé...   \n",
       "8   (Les, jardins, sont, -, ils, payants, les, jou...   \n",
       "9   (Puis, -, je, venir, avec, des, bagages, volum...   \n",
       "10  (Les, poussettes, sont, -, elles, acceptées, à...   \n",
       "11  (À, qui, dois, -, je, m', adresser, pour, obte...   \n",
       "12          (Quels, sont, les, accès, au, Château, ?)   \n",
       "13  (Quelles, sont, les, modalités, d’, accès, pou...   \n",
       "14  (Quels, sont, les, espaces, auxquels, je, peux...   \n",
       "15  (Avec, quels, billets, puis, -, je, accéder, a...   \n",
       "16  (Puis, -, je, venir, avec, des, bagages, volum...   \n",
       "17  (Les, poussettes, sont, -, elles, acceptées, à...   \n",
       "18  (Où, sont, les, toilettes, et, les, tables, à,...   \n",
       "19  (Quelles, sont, les, activités, proposées, aux...   \n",
       "20  (Comment, présenter, le, château, de, Versaill...   \n",
       "21  (Existe, -, t, -, il, des, parcours, de, visit...   \n",
       "22  (Où, dois, -, je, me, rendre, à, mon, arrivée,...   \n",
       "23  (Une, fois, l', activité, famille, terminée, ,...   \n",
       "24  (Puis, -, je, réserver, une, activité, pour, u...   \n",
       "25  (Avons, -, nous, accès, à, une, consigne, pour...   \n",
       "26  (Sommes, -, nous, autorisés, à, prendre, des, ...   \n",
       "27  (Que, faire, si, je, perds, mon, enfant, dans,...   \n",
       "28  (Les, activités, famille, qui, se, déroulent, ...   \n",
       "29                              (Où, pique-niquer, ?)   \n",
       "30  (À, qui, dois, -, je, m', adresser, pour, obte...   \n",
       "31      (Comment, préparer, au, mieux, ma, visite, ?)   \n",
       "32  (La, visite, des, Grands, appartements, est-el...   \n",
       "33  (Comment, se, déroulent, les, visites, scolair...   \n",
       "34  (Comment, compléter, votre, activité, ,, ateli...   \n",
       "35  (Puis, -, je, venir, avec, ma, classe, sans, r...   \n",
       "36  (Puis, -, je, venir, visiter, le, Château, ava...   \n",
       "37  (Puis, -, je, venir, visiter, les, jardins, gr...   \n",
       "38  (Comment, réserver, une, visite, avec, ma, cla...   \n",
       "39  (Comment, puis, -, je, modifier, les, informat...   \n",
       "40  (Comment, accéder, à, la, billetterie, en, lig...   \n",
       "41  (A, partir, de, quelle, date, puis, -, je, rés...   \n",
       "42           (Comment, confirmer, ma, réservation, ?)   \n",
       "43  (Comment, annuler, ou, modifier, ma, réservati...   \n",
       "44  (Combien, d', élèves, et, d', accompagnateurs,...   \n",
       "45  (Mon, groupe, comprend, un, jeune, en, situati...   \n",
       "46                   (Comment, venir, au, Château, ?)   \n",
       "47  (Puis, -, je, faire, déjeuner, mon, groupe, su...   \n",
       "\n",
       "                                       Question_lemme  \\\n",
       "0   (où, acheter, le, billet, ?, être, -, il, néce...   \n",
       "1   (où, devoir, -, je, me, présenter, avec, mon, ...   \n",
       "2   (quel, être, le, avantage, et, le, tarif, un, ...   \n",
       "3   (quel, être, le, moyen, de, paiement, accepter...   \n",
       "4   (existe, -, t, -, il, un, billet, pour, l, ’, ...   \n",
       "5   (combien, coûte, un, billet, pour, le, château...   \n",
       "6   (comment, éviter, le, file, de, attente, al, c...   \n",
       "7   (ai, -, je, besoin, de, un, billet, si, je, bé...   \n",
       "8   (le, jardin, être, -, il, payant, le, jour, de...   \n",
       "9   (puis, -, je, venir, avec, un, bagage, volumin...   \n",
       "10  (le, poussette, être, -, lui, accepter, à, le,...   \n",
       "11  (à, qui, devoir, -, je, me, adresser, pour, ob...   \n",
       "12            (quel, être, le, accès, au, château, ?)   \n",
       "13  (quelle, être, le, modalité, d, ’, accès, pour...   \n",
       "14  (quel, être, le, espace, auxquel, je, pouvoir,...   \n",
       "15  (avec, quel, billet, puis, -, je, accéder, al,...   \n",
       "16  (puis, -, je, venir, avec, un, bagage, volumin...   \n",
       "17  (le, poussette, être, -, lui, accepter, à, le,...   \n",
       "18  (où, être, le, toilette, et, le, table, à, lan...   \n",
       "19  (quelle, être, le, activité, proposer, al, fam...   \n",
       "20  (comment, présenter, le, château, de, versaill...   \n",
       "21  (existe, -, t, -, il, un, parcours, de, visite...   \n",
       "22  (où, devoir, -, je, me, rendre, à, mon, arrivé...   \n",
       "23  (un, fois, le, activité, famill, terminer, ,, ...   \n",
       "24  (puis, -, je, réserver, un, activité, pour, un...   \n",
       "25  (avoir, -, nous, accès, à, un, consigne, pour,...   \n",
       "26  (somme, -, nous, autoriser, à, prendre, un, ph...   \n",
       "27  (que, faire, si, je, perdre, mon, enfant, dans...   \n",
       "28  (le, activité, famille, qui, se, dérouler, dan...   \n",
       "29                              (où, pique-niquer, ?)   \n",
       "30  (à, qui, devoir, -, je, me, adresser, pour, ob...   \n",
       "31     (comment, préparer, au, mieux, mon, visite, ?)   \n",
       "32  (le, visite, un, grand, appartement, est-elle,...   \n",
       "33  (comment, se, dérouler, le, visite, scolaire, ...   \n",
       "34  (comment, compléter, votre, activité, ,, ateli...   \n",
       "35  (puis, -, je, venir, avec, mon, classe, sans, ...   \n",
       "36  (puis, -, je, venir, visiter, le, château, ava...   \n",
       "37  (puis, -, je, venir, visiter, le, jardin, grat...   \n",
       "38  (comment, réserver, un, visite, avec, mon, cla...   \n",
       "39  (comment, puis, -, je, modifier, le, informati...   \n",
       "40  (comment, accéder, à, le, billetterie, en, lig...   \n",
       "41  (avoir, partir, de, quel, date, puis, -, je, r...   \n",
       "42          (comment, confirmer, mon, réservation, ?)   \n",
       "43  (comment, annuler, ou, modifier, mon, réservat...   \n",
       "44  (combien, de, élève, et, de, accompagnateur, p...   \n",
       "45  (mon, groupe, comprendre, un, jeune, en, situa...   \n",
       "46                   (comment, venir, au, château, ?)   \n",
       "47  (puis, -, je, faire, déjeuner, mon, groupe, su...   \n",
       "\n",
       "                                        Question_stem  \\\n",
       "0   (où, achet, le, billet, ?, est-il, nécessair, ...   \n",
       "1   (où, dois, -, j, me, présent, avec, me, billet...   \n",
       "2   (quel, sont, le, avantag, et, le, tarif, de, v...   \n",
       "3         (quel, sont, le, moyen, de, pai, accept, ?)   \n",
       "4   (existe, -, t, -, il, un, billet, pour, l, ’, ...   \n",
       "5   (combien, coût, un, billet, pour, le, château,...   \n",
       "6   (comment, évit, le, fil, d', attent, aux, cais...   \n",
       "7   (ai, -, j, besoin, d', un, billet, si, je, bén...   \n",
       "8   (le, jardin, sont, -, il, pai, le, jour, de, g...   \n",
       "9   (puis, -, j, ven, avec, de, bagag, volumin, au...   \n",
       "10  (le, pousset, sont, -, el, accept, à, l', inté...   \n",
       "11  (à, qui, dois, -, j, m', adress, pour, obten, ...   \n",
       "12            (quel, sont, le, acces, au, château, ?)   \n",
       "13  (quel, sont, le, modal, d, ’, acces, pour, le,...   \n",
       "14  (quel, sont, le, espac, auxquel, je, peux, acc...   \n",
       "15  (avec, quel, billet, puis, -, j, acced, aux, e...   \n",
       "16  (puis, -, j, ven, avec, de, bagag, volumin, au...   \n",
       "17  (le, pousset, sont, -, el, accept, à, l', inté...   \n",
       "18   (où, sont, le, toilet, et, le, tabl, à, lang, ?)   \n",
       "19    (quel, sont, le, activ, propos, aux, famill, ?)   \n",
       "20  (comment, présent, le, château, de, versaill, ...   \n",
       "21  (existe, -, t, -, il, de, parcour, de, visit, ...   \n",
       "22  (où, dois, -, j, me, rendr, à, mon, arriv, au,...   \n",
       "23  (une, fois, l', activ, famill, termin, ,, avon...   \n",
       "24  (puis, -, j, réserv, une, activ, pour, une, fa...   \n",
       "25  (avons, -, nous, acces, à, une, consign, pour,...   \n",
       "26  (sommes, -, nous, autoris, à, prendr, de, phot...   \n",
       "27  (que, fair, si, je, perd, mon, enfant, dan, le...   \n",
       "28  (le, activ, famill, qui, se, déroulent, dan, l...   \n",
       "29                                (où, pique-niqu, ?)   \n",
       "30  (à, qui, dois, -, j, m', adress, pour, obten, ...   \n",
       "31         (comment, prépar, au, mieux, ma, visit, ?)   \n",
       "32  (la, visit, de, grand, appart, est-el, systéma...   \n",
       "33  (comment, se, déroulent, le, visit, scolair, l...   \n",
       "34  (comment, complet, votr, activ, ,, ateli, ou, ...   \n",
       "35  (puis, -, j, ven, avec, ma, class, san, réserv...   \n",
       "36  (puis, -, j, ven, visit, le, château, avant, d...   \n",
       "37  (puis, -, j, ven, visit, le, jardin, gratuit, ...   \n",
       "38  (comment, réserv, une, visit, avec, ma, class, ?)   \n",
       "39  (comment, puis, -, j, modifi, le, inform, prés...   \n",
       "40  (comment, acced, à, la, billetter, en, lign, r...   \n",
       "41  (a, part, de, quel, dat, puis, -, j, réserv, u...   \n",
       "42                  (comment, confirm, ma, réserv, ?)   \n",
       "43        (comment, annul, ou, modifi, ma, réserv, ?)   \n",
       "44  (combien, d', élev, et, d', accompagn, peuvent...   \n",
       "45  (mon, group, comprend, un, jeun, en, situat, d...   \n",
       "46                     (comment, ven, au, château, ?)   \n",
       "47  (puis, -, j, fair, déjeun, mon, group, sur, pl...   \n",
       "\n",
       "                                         Question_pos  \\\n",
       "0   (ADV, VERB, DET, NOUN, PUNCT, VERB, PUNCT, PRO...   \n",
       "1   (ADV, AUX, PUNCT, PRON, PRON, VERB, ADP, DET, ...   \n",
       "2   (ADJ, AUX, DET, NOUN, CCONJ, DET, NOUN, DET, N...   \n",
       "3       (ADJ, AUX, DET, NOUN, ADP, NOUN, VERB, PUNCT)   \n",
       "4   (NOUN, PUNCT, NOUN, PUNCT, PRON, DET, NOUN, AD...   \n",
       "5   (ADV, VERB, DET, NOUN, ADP, DET, NOUN, ADP, NO...   \n",
       "6   (ADV, VERB, DET, NOUN, ADP, NOUN, ADJ, NOUN, P...   \n",
       "7   (NOUN, PUNCT, PRON, NOUN, ADP, DET, NOUN, SCON...   \n",
       "8   (DET, NOUN, AUX, PUNCT, PRON, NOUN, DET, NOUN,...   \n",
       "9   (CCONJ, PUNCT, PRON, VERB, ADP, DET, NOUN, ADJ...   \n",
       "10  (DET, NOUN, AUX, PUNCT, PRON, VERB, ADP, DET, ...   \n",
       "11  (ADP, PRON, AUX, PUNCT, PRON, PRON, VERB, ADP,...   \n",
       "12            (ADJ, AUX, DET, NOUN, ADP, NOUN, PUNCT)   \n",
       "13  (ADJ, AUX, DET, NOUN, DET, NOUN, ADP, DET, NOU...   \n",
       "14  (ADJ, AUX, DET, NOUN, ADJ, PRON, AUX, VERB, AD...   \n",
       "15  (ADP, ADJ, NOUN, CCONJ, PUNCT, PRON, VERB, ADJ...   \n",
       "16  (CCONJ, PUNCT, PRON, VERB, ADP, DET, NOUN, ADJ...   \n",
       "17  (DET, NOUN, AUX, PUNCT, PRON, VERB, ADP, DET, ...   \n",
       "18  (ADV, AUX, DET, NOUN, CCONJ, DET, NOUN, ADP, V...   \n",
       "19      (ADJ, AUX, DET, NOUN, VERB, ADJ, NOUN, PUNCT)   \n",
       "20  (ADV, VERB, DET, NOUN, ADP, NOUN, NOUN, NOUN, ...   \n",
       "21  (NOUN, PUNCT, NOUN, PUNCT, PRON, DET, NOUN, AD...   \n",
       "22  (ADV, AUX, PUNCT, PRON, PRON, VERB, ADP, DET, ...   \n",
       "23  (DET, NOUN, DET, NOUN, ADJ, VERB, PUNCT, NOUN,...   \n",
       "24  (CCONJ, PUNCT, PRON, VERB, DET, NOUN, ADP, DET...   \n",
       "25  (AUX, PUNCT, PRON, VERB, ADP, DET, NOUN, ADP, ...   \n",
       "26  (NOUN, PUNCT, PRON, VERB, ADP, VERB, DET, NOUN...   \n",
       "27  (PRON, VERB, SCONJ, PRON, VERB, DET, NOUN, ADP...   \n",
       "28  (DET, NOUN, VERB, PRON, PRON, VERB, ADP, DET, ...   \n",
       "29                                 (ADV, VERB, PUNCT)   \n",
       "30  (ADP, PRON, AUX, PUNCT, PRON, PRON, VERB, ADP,...   \n",
       "31           (ADV, VERB, NOUN, ADV, DET, NOUN, PUNCT)   \n",
       "32  (DET, NOUN, DET, ADJ, NOUN, VERB, ADV, VERB, A...   \n",
       "33  (ADV, PRON, VERB, DET, NOUN, ADJ, DET, NOUN, P...   \n",
       "34  (ADV, VERB, DET, NOUN, PUNCT, NOUN, CCONJ, NOU...   \n",
       "35  (CCONJ, PUNCT, PRON, VERB, ADP, DET, NOUN, ADP...   \n",
       "36  (CCONJ, PUNCT, PRON, VERB, VERB, DET, NOUN, AD...   \n",
       "37  (CCONJ, PUNCT, PRON, VERB, VERB, DET, NOUN, VE...   \n",
       "38      (ADV, VERB, DET, NOUN, ADP, DET, NOUN, PUNCT)   \n",
       "39  (ADV, CCONJ, PUNCT, PRON, VERB, DET, NOUN, ADJ...   \n",
       "40  (ADV, VERB, ADP, DET, NOUN, ADP, NOUN, VERB, N...   \n",
       "41  (AUX, VERB, ADP, DET, NOUN, CCONJ, PUNCT, PRON...   \n",
       "42                      (ADV, VERB, DET, NOUN, PUNCT)   \n",
       "43         (ADV, VERB, CCONJ, NOUN, DET, NOUN, PUNCT)   \n",
       "44  (ADV, ADP, ADJ, CCONJ, ADP, NOUN, AUX, VERB, D...   \n",
       "45  (DET, NOUN, VERB, DET, ADJ, ADP, NOUN, ADP, NO...   \n",
       "46                      (ADV, VERB, ADP, NOUN, PUNCT)   \n",
       "47  (CCONJ, PUNCT, PRON, VERB, VERB, DET, NOUN, AD...   \n",
       "\n",
       "                                          Question_sw  \n",
       "0   (Où, acheter, billets, ?, Est, -, nécessaire, ...  \n",
       "1   (Où, dois, -, présenter, billets, achetés, pré...  \n",
       "2     (Quels, avantages, tarifs, visites, guidées, ?)  \n",
       "3              (Quels, moyens, paiement, acceptés, ?)  \n",
       "4   (Existe, -, -, billet, l, ’, ensemble, Domaine...  \n",
       "5   (Combien, coûte, billet, château, Versailles, ...  \n",
       "6   (Comment, éviter, files, d, ', attente, caisse...  \n",
       "7   (Ai, -, besoin, d, ', billet, si, bénéficie, g...  \n",
       "8   (Les, jardins, -, payants, jours, Grandes, Eau...  \n",
       "9   (Puis, -, venir, bagages, volumineux, Château, ?)  \n",
       "10  (Les, poussettes, -, elles, acceptées, l, ', i...  \n",
       "11  (À, dois, -, m, ', adresser, obtenir, renseign...  \n",
       "12                         (Quels, accès, Château, ?)  \n",
       "13  (Quelles, modalités, d, ’, accès, enfants, bas...  \n",
       "14  (Quels, espaces, auxquels, peux, accéder, bill...  \n",
       "15  (Avec, quels, billets, puis, -, accéder, expos...  \n",
       "16  (Puis, -, venir, bagages, volumineux, Château, ?)  \n",
       "17  (Les, poussettes, -, elles, acceptées, l, ', i...  \n",
       "18                 (Où, toilettes, tables, langer, ?)  \n",
       "19       (Quelles, activités, proposées, familles, ?)  \n",
       "20  (Comment, présenter, château, Versailles, enfa...  \n",
       "21  (Existe, -, -, parcours, visite, adaptés, enfa...  \n",
       "22         (Où, dois, -, rendre, arrivée, Château, ?)  \n",
       "23  (Une, fois, l, ', activité, famille, terminée,...  \n",
       "24   (Puis, -, réserver, activité, famille, seule, ?)  \n",
       "25  (Avons, -, accès, consigne, déposer, affaires, ?)  \n",
       "26  (Sommes, -, autorisés, prendre, photos, Châtea...  \n",
       "27         (Que, faire, si, perds, enfant, salles, ?)  \n",
       "28  (Les, activités, famille, déroulent, jardins, ...  \n",
       "29                              (Où, pique-niquer, ?)  \n",
       "30  (À, dois, -, m, ', adresser, obtenir, renseign...  \n",
       "31              (Comment, préparer, mieux, visite, ?)  \n",
       "32  (La, visite, Grands, appartements, est-elle, s...  \n",
       "33  (Comment, déroulent, visites, scolaires, lundi...  \n",
       "34  (Comment, compléter, activité, ,, atelier, vis...  \n",
       "35     (Puis, -, venir, classe, sans, réservation, ?)  \n",
       "36  (Puis, -, venir, visiter, Château, avant, d, '...  \n",
       "37  (Puis, -, venir, visiter, jardins, gratuitemen...  \n",
       "38             (Comment, réserver, visite, classe, ?)  \n",
       "39  (Comment, puis, -, modifier, informations, pré...  \n",
       "40  (Comment, accéder, billetterie, ligne, réservé...  \n",
       "41  (A, partir, quelle, date, puis, -, réserver, v...  \n",
       "42               (Comment, confirmer, réservation, ?)  \n",
       "43       (Comment, annuler, modifier, réservation, ?)  \n",
       "44  (Combien, d, ', élèves, d, ', accompagnateurs,...  \n",
       "45  (Mon, groupe, comprend, jeune, situation, hand...  \n",
       "46                       (Comment, venir, Château, ?)  \n",
       "47       (Puis, -, faire, déjeuner, groupe, place, ?)  "
      ]
     },
     "execution_count": 10,
     "metadata": {},
     "output_type": "execute_result"
    }
   ],
   "source": [
    "traitement_question = pd.DataFrame({\n",
    "    \"Question\" : data.Question,\n",
    "    \"Question_token\" : [nlp(x) for x in data.Question],\n",
    "    \"Question_lemme\" : data.Question.apply(lemmatise_text),\n",
    "    \"Question_stem\" : data.Question.apply(stem_text),\n",
    "    \"Question_pos\" : data.Question.apply(replace_words_with_pos_tag),\n",
    "    \"Question_sw\" : data.Question.apply(virer_sw)\n",
    "})\n",
    "\n",
    "traitement_reponse = pd.DataFrame({\n",
    "    \"Reponse\" : data.Reponse,\n",
    "    \"Reponse_token\" : [nlp(x) for x in data.Reponse],\n",
    "    \"Reponse_lemme\" : data.Reponse.apply(lemmatise_text),\n",
    "    \"Reponse_stem\" : data.Reponse.apply(stem_text),\n",
    "    \"Reponse_pos\" : data.Reponse.apply(replace_words_with_pos_tag),\n",
    "    \"Reponse_sw\" : data.Reponse.apply(virer_sw)\n",
    "})\n",
    "traitement_question"
   ]
  },
  {
   "cell_type": "markdown",
   "metadata": {},
   "source": [
    "On observe ici l'ensemble des questions/réponses, dans leur état original puis dans leurs formes modifiées par les fonctions sus-créées."
   ]
  },
  {
   "cell_type": "code",
   "execution_count": 11,
   "metadata": {},
   "outputs": [],
   "source": [
    "traitement_question.to_pickle('trait_question.pkl')\n",
    "traitement_reponse.to_pickle('trait_reponse.pkl')"
   ]
  },
  {
   "cell_type": "markdown",
   "metadata": {},
   "source": [
    "On enregistre ces tableaux dans un pickle pour pouvoir facilement les reprendre."
   ]
  },
  {
   "cell_type": "markdown",
   "metadata": {
    "colab_type": "text",
    "id": "VEJ4XvSTqRYE"
   },
   "source": [
    "Une fois cela fait, une approche possible est de comparer la question avec chaque question de la base de données, par exemple :\n",
    "+ en calculant une mesure de leur similarité (cf. `spacy` : attribut `similarity` disponible sur les tokens mais aussi les documents). Si la similarité est en-dessous d'un certain seuil, on considère que ce n'est pas une question métier (à noter que cela n'est pas nécessairement vrai, mais cela simplifie les choses) et on bascule sur la composante générative du chatbot ;\n",
    "+ en cherchant dans la question reçue des mots-clés associés à chaque question de la base de données. On peut là encore se servir de similarités entre vecteurs de mots pour identifider des mots similaires aux mots-clés prédéfinis. On peut aussi tirer parti de l'étiqueteur pré-entraîné d'entités nommées dans un modèle statistique de `spacy`. Même hypothèse : en cas d'échec, on considère que la question est hors sujet (ou du moins hors domaine) et on déclenche la composante générative du chatbot.\n",
    "\n",
    "Cette approche devient moins pratique si la base de données est grande. Dans ce cas il devient plus intéressant d'organiser la base de données en sections de moindre taille.\n",
    "\n",
    "À noter que, au lieu de comparer la nouvelle question avec les questions de la base, on peut aussi comparer la nouvelle question avec les réponses de la base. Cela peut sembler surprenant, mais des travaux publiés ont montré que cette approche est parfois plus efficace."
   ]
  },
  {
   "cell_type": "code",
   "execution_count": 12,
   "metadata": {},
   "outputs": [],
   "source": [
    "import warnings\n",
    "warnings.filterwarnings('ignore')"
   ]
  },
  {
   "cell_type": "code",
   "execution_count": 13,
   "metadata": {},
   "outputs": [],
   "source": [
    "def score_texte(question):\n",
    "#    score_token_q = []\n",
    "#    score_lemme_q = []\n",
    "    score_stem_q = []\n",
    "#    score_pos_q = []\n",
    "#     score_sw_q = []\n",
    "    \n",
    "    for i in range(0,48):\n",
    "#         score_lemme_q.append(lemmatise_text(question).similarity(traitement_question.Question_lemme[i]))\n",
    "#         score_token_q.append(nlp(question).similarity(traitement_question.Question_token[i]))\n",
    "         score_stem_q.append(stem_text(question).similarity(traitement_question.Question_stem[i]))\n",
    "#         score_pos_q.append(replace_words_with_pos_tag(question).similarity(traitement_question.Question_pos[i]))\n",
    "#         score_sw_q.append(virer_sw(question).similarity(traitement_question.Question_sw[i]))\n",
    "        \n",
    "    dico = {\n",
    "        \"Question\" : traitement_question.Question,\n",
    "#         \"QToken\" : score_token_q,\n",
    "#         \"QLemme\" : score_lemme_q,\n",
    "         \"QStem\" : score_stem_q,\n",
    "#         \"QPos\" : score_pos_q,\n",
    "#          \"QSw\" : score_sw_q\n",
    "    }\n",
    "    \n",
    "    data = pd.DataFrame(dico)\n",
    "    return(round(data,2))"
   ]
  },
  {
   "cell_type": "markdown",
   "metadata": {},
   "source": [
    "Ici, on crée la table des similarités, entre la nouvelle question saisie et toutes les questions de la base. Le temps de traitement est grand, nous avons choisi de retirer certains traitement, pour ne garder que le Stem. Nous avons choisi de garder cette méthode car nous trouvions qu'elle discriminait au mieux les nouvelles questions, entre \"questions pertinentes\" et \"questions hors-sujet\". <br>\n",
    "Le tableau ci-dessous nous donne la similarité de la nouvelle question avec toutes les questions de la base.\n",
    "Nous n'avons pas comparé la nouvelle question aux réponses, car le temps de calcul était trop important et le Chatbot n'était pas du tout dynamique."
   ]
  },
  {
   "cell_type": "code",
   "execution_count": 15,
   "metadata": {},
   "outputs": [
    {
     "name": "stdout",
     "output_type": "stream",
     "text": [
      "0.61\n"
     ]
    },
    {
     "data": {
      "text/plain": [
       "'Combien coûte un billet pour le château de Versailles ? Où puis-je l’acheter ?'"
      ]
     },
     "execution_count": 15,
     "metadata": {},
     "output_type": "execute_result"
    }
   ],
   "source": [
    "import numpy as np\n",
    "tableau = score_texte(\"Bagages volumineux ?\")\n",
    "print(np.max(tableau.QStem))\n",
    "tableau.iloc[np.argmax(tableau.QStem),0]"
   ]
  },
  {
   "cell_type": "markdown",
   "metadata": {
    "colab_type": "text",
    "id": "arlZk511qRYG"
   },
   "source": [
    "Une autre option serait d'apprendre :\n",
    "+ un classifieur binaire capable de distinguer entre thématiques liées au métier et autres thématiques. Pour cela on peut utiliser pour l'apprentissage les données métier de notre base de questions-réponses et une partie du corpus de la composante conversationnelle (équilibrer les deux corpus en termes de taille) ;\n",
    "+ si pertinent, un deuxième classifieur, cette fois-ci multi-classe, qui distinguera entre les thématiques métier. Les données d'apprentissage seront les données de notre base de questions-réponses, classées en catégories.\n",
    "\n",
    "Si on opte pour cette approche, le(s) classifieur(s) devront être appris en amont de la mise en \"production\" du chatbot et stockés pour une utilisation en temps réel (`pickle`)."
   ]
  },
  {
   "cell_type": "markdown",
   "metadata": {
    "colab_type": "text",
    "id": "nTODg8KTqRYH"
   },
   "source": [
    "### <font color=\"red\">2. Composante conversationnelle</font>"
   ]
  },
  {
   "cell_type": "markdown",
   "metadata": {
    "colab_type": "text",
    "id": "HlwCVLZ6qRYI"
   },
   "source": [
    "Approche générative : le chatbot produit du texte original en prenant comme point de départ le tour de parole (la question) de l'utilisateur."
   ]
  },
  {
   "cell_type": "markdown",
   "metadata": {
    "colab_type": "text",
    "id": "yBEMEJu7qRYJ"
   },
   "source": [
    "#### Constitution du corpus"
   ]
  },
  {
   "cell_type": "markdown",
   "metadata": {
    "colab_type": "text",
    "id": "4RROLdo0qRYK"
   },
   "source": [
    "Nous utiliserons pour cette composante un corpus de sous-titres de films en français. Le projet [OPUS](http://opus.nlpl.eu/) met à disposition un grand nombre de corpus multilingues, dont des sous-titres de films, avec ou sans alignement entre texte source et texte cible.\n",
    "\n",
    "Pour cette application nous utiliserons exclusivement la partie française de l'un des nombreux jeux de données disponibles [ici](http://opus.nlpl.eu/OpenSubtitles-v2018.php). Pour cela, il faut télécharger l'une des archives au format `.txt`, qui sont disponibles dans le deuxième tableau de la page Web (le tableau en couleurs sous la section Statistics and TMX/Moses Downloads). Choisissez l'une des cellules correspondant au français en-dessous de la diagonale ; optez pour une taille moyenne (les fichiers sont volumineux et ils contiennent beaucoup de texte).\n",
    "\n",
    "Une fois l'archive téléchargée, décompressez-la et ne retenez que le fichier qui se termine par `-fr.fr`."
   ]
  },
  {
   "cell_type": "markdown",
   "metadata": {
    "colab_type": "text",
    "id": "qbj6cBoSqRYM"
   },
   "source": [
    "#### Apprentissage du modèle"
   ]
  },
  {
   "cell_type": "markdown",
   "metadata": {
    "colab_type": "text",
    "id": "NprA-rNRqRYN"
   },
   "source": [
    "Nous apprendrons un modèle de langue sur ces données. Un tutoriel pour un modèle basé sur les caractères est disponible [ici](https://www.tensorflow.org/tutorials/text/text_generation). La même approche peut s'appliquer au niveau des mots plutôt que des caractères.\n",
    "\n",
    "Une fois le modèle appris stockez-le comme `pickle`. Lors du fonctionnement en temps réel il prendra en entrée le texte de l'usager. À noter qu'il faudra prévoir un prétraitement de la question différent de celui qui est nécessaire pour la première composante."
   ]
  },
  {
   "cell_type": "code",
   "execution_count": 20,
   "metadata": {},
   "outputs": [],
   "source": [
    "with open(\"composante_conversationnelle/OpenSubtitles.et-fr.fr\",\"r\",encoding=\"utf-8\" ) as fichier :\n",
    "    corpus = fichier.read()#.replace(\"\\n\",\" \")\n",
    "    fichier.close()"
   ]
  },
  {
   "cell_type": "code",
   "execution_count": 21,
   "metadata": {},
   "outputs": [
    {
     "data": {
      "text/plain": [
       "325689753"
      ]
     },
     "execution_count": 21,
     "metadata": {},
     "output_type": "execute_result"
    }
   ],
   "source": [
    "len(corpus)"
   ]
  },
  {
   "cell_type": "code",
   "execution_count": 22,
   "metadata": {},
   "outputs": [],
   "source": [
    "corpus=corpus[:640001]"
   ]
  },
  {
   "cell_type": "markdown",
   "metadata": {},
   "source": [
    "Nous allons générer du texte via le lien au-dessus."
   ]
  },
  {
   "cell_type": "markdown",
   "metadata": {},
   "source": [
    "#### Apprentissage"
   ]
  },
  {
   "cell_type": "code",
   "execution_count": 23,
   "metadata": {},
   "outputs": [],
   "source": [
    "import tensorflow as tf\n",
    "\n",
    "import numpy as np\n",
    "import os\n",
    "import time\n",
    "import datetime"
   ]
  },
  {
   "cell_type": "code",
   "execution_count": 24,
   "metadata": {
    "colab": {},
    "colab_type": "code",
    "id": "IlCgQBRVymwR"
   },
   "outputs": [
    {
     "name": "stdout",
     "output_type": "stream",
     "text": [
      "118 unique characters\n"
     ]
    }
   ],
   "source": [
    "# The unique characters in the file\n",
    "vocab = sorted(set(corpus))\n",
    "print ('{} unique characters'.format(len(vocab)))"
   ]
  },
  {
   "cell_type": "markdown",
   "metadata": {
    "colab_type": "text",
    "id": "rNnrKn_lL-IJ"
   },
   "source": [
    "## Process the text"
   ]
  },
  {
   "cell_type": "markdown",
   "metadata": {
    "colab_type": "text",
    "id": "LFjSVAlWzf-N"
   },
   "source": [
    "### Vectorize the text\n",
    "\n",
    "Before training, we need to map strings to a numerical representation. Create two lookup tables: one mapping characters to numbers, and another for numbers to characters."
   ]
  },
  {
   "cell_type": "code",
   "execution_count": 25,
   "metadata": {
    "colab": {},
    "colab_type": "code",
    "id": "IalZLbvOzf-F"
   },
   "outputs": [],
   "source": [
    "# Creating a mapping from unique characters to indices\n",
    "char2idx = {u:i for i, u in enumerate(vocab)}\n",
    "idx2char = np.array(vocab)\n",
    "\n",
    "text_as_int = np.array([char2idx[c] for c in corpus])"
   ]
  },
  {
   "cell_type": "markdown",
   "metadata": {
    "colab_type": "text",
    "id": "bbmsf23Bymwe"
   },
   "source": [
    "### The prediction task"
   ]
  },
  {
   "cell_type": "markdown",
   "metadata": {
    "colab_type": "text",
    "id": "wssHQ1oGymwe"
   },
   "source": [
    "Given a character, or a sequence of characters, what is the most probable next character? This is the task we're training the model to perform. The input to the model will be a sequence of characters, and we train the model to predict the output—the following character at each time step.\n",
    "\n",
    "Since RNNs maintain an internal state that depends on the previously seen elements, given all the characters computed until this moment, what is the next character?\n"
   ]
  },
  {
   "cell_type": "markdown",
   "metadata": {
    "colab_type": "text",
    "id": "hgsVvVxnymwf"
   },
   "source": [
    "### Create training examples and targets\n",
    "\n",
    "Next divide the text into example sequences. Each input sequence will contain `seq_length` characters from the text.\n",
    "\n",
    "For each input sequence, the corresponding targets contain the same length of text, except shifted one character to the right.\n",
    "\n",
    "So break the text into chunks of `seq_length+1`. For example, say `seq_length` is 4 and our text is \"Hello\". The input sequence would be \"Hell\", and the target sequence \"ello\".\n",
    "\n",
    "To do this first use the `tf.data.Dataset.from_tensor_slices` function to convert the text vector into a stream of character indices."
   ]
  },
  {
   "cell_type": "code",
   "execution_count": 74,
   "metadata": {
    "colab": {},
    "colab_type": "code",
    "id": "0UHJDA39zf-O"
   },
   "outputs": [
    {
     "name": "stdout",
     "output_type": "stream",
     "text": [
      "C\n",
      "h\n",
      "a\n",
      "r\n",
      "l\n"
     ]
    }
   ],
   "source": [
    "# The maximum length sentence we want for a single input in characters\n",
    "seq_length = 100\n",
    "examples_per_epoch = len(corpus)//(seq_length+1)\n",
    "\n",
    "# Create training examples / targets\n",
    "char_dataset = tf.data.Dataset.from_tensor_slices(text_as_int)"
   ]
  },
  {
   "cell_type": "markdown",
   "metadata": {
    "colab_type": "text",
    "id": "-ZSYAcQV8OGP"
   },
   "source": [
    "The `batch` method lets us easily convert these individual characters to sequences of the desired size."
   ]
  },
  {
   "cell_type": "code",
   "execution_count": 75,
   "metadata": {
    "colab": {},
    "colab_type": "code",
    "id": "l4hkDU3i7ozi"
   },
   "outputs": [
    {
     "name": "stdout",
     "output_type": "stream",
     "text": [
      "\"Charles Chaplin in The Kid\\npleurer.\\nLa femme - dont le pêché était d'être mère.\\nSeule.\\nL'homme.\\nSa pr\"\n",
      "\"omenade matinale.\\nEspèce d'empoté.\\nvous avez perdu quelque chose.\\nMerci d'aimer et de prendre soin de\"\n",
      "\" cet orphelin\\nC'est à vous ?\\nComment s'appelle-t-il\\nJohn\\nCINQ ANS PLUS TARD\\nMet la pièce dans le comp\"\n",
      "\"teur à gaz.\\nTu sais quelles rues nous allons faire aujourd'hui ?\\nTout se passe bien...\\nTravail numéro\"\n",
      "' 13.\\nEn congé.\\nLa femme - à présent une star célèbre.\\nFélicitations pour votre interprétation de la n'\n"
     ]
    }
   ],
   "source": [
    "sequences = char_dataset.batch(seq_length+1, drop_remainder=True)"
   ]
  },
  {
   "cell_type": "markdown",
   "metadata": {
    "colab_type": "text",
    "id": "UbLcIPBj_mWZ"
   },
   "source": [
    "For each sequence, duplicate and shift it to form the input and target text by using the `map` method to apply a simple function to each batch:"
   ]
  },
  {
   "cell_type": "code",
   "execution_count": 76,
   "metadata": {
    "colab": {},
    "colab_type": "code",
    "id": "9NGu-FkO_kYU"
   },
   "outputs": [],
   "source": [
    "def split_input_target(chunk):\n",
    "    input_text = chunk[:-1]\n",
    "    target_text = chunk[1:]\n",
    "    return input_text, target_text\n",
    "\n",
    "dataset = sequences.map(split_input_target)"
   ]
  },
  {
   "cell_type": "markdown",
   "metadata": {
    "colab_type": "text",
    "id": "hiCopyGZymwi"
   },
   "source": [
    "Print the first examples input and target values:"
   ]
  },
  {
   "cell_type": "code",
   "execution_count": 77,
   "metadata": {
    "colab": {},
    "colab_type": "code",
    "id": "GNbw-iR0ymwj"
   },
   "outputs": [
    {
     "name": "stdout",
     "output_type": "stream",
     "text": [
      "Input data:  \"Charles Chaplin in The Kid\\npleurer.\\nLa femme - dont le pêché était d'être mère.\\nSeule.\\nL'homme.\\nSa p\"\n",
      "Target data: \"harles Chaplin in The Kid\\npleurer.\\nLa femme - dont le pêché était d'être mère.\\nSeule.\\nL'homme.\\nSa pr\"\n"
     ]
    }
   ],
   "source": [
    "for input_example, target_example in  dataset.take(1):\n",
    "  print ('Input data: ', repr(''.join(idx2char[input_example.numpy()])))\n",
    "  print ('Target data:', repr(''.join(idx2char[target_example.numpy()])))"
   ]
  },
  {
   "cell_type": "markdown",
   "metadata": {
    "colab_type": "text",
    "id": "_33OHL3b84i0"
   },
   "source": [
    "Each index of these vectors are processed as one time step. For the input at time step 0, the model receives the index for \"F\" and trys to predict the index for \"i\" as the next character. At the next timestep, it does the same thing but the `RNN` considers the previous step context in addition to the current input character."
   ]
  },
  {
   "cell_type": "code",
   "execution_count": 78,
   "metadata": {
    "colab": {},
    "colab_type": "code",
    "id": "0eBu9WZG84i0"
   },
   "outputs": [
    {
     "name": "stdout",
     "output_type": "stream",
     "text": [
      "Step    0\n",
      "  input: 31 ('C')\n",
      "  expected output: 65 ('h')\n",
      "Step    1\n",
      "  input: 65 ('h')\n",
      "  expected output: 58 ('a')\n",
      "Step    2\n",
      "  input: 58 ('a')\n",
      "  expected output: 75 ('r')\n",
      "Step    3\n",
      "  input: 75 ('r')\n",
      "  expected output: 69 ('l')\n",
      "Step    4\n",
      "  input: 69 ('l')\n",
      "  expected output: 62 ('e')\n"
     ]
    }
   ],
   "source": [
    "for i, (input_idx, target_idx) in enumerate(zip(input_example[:5], target_example[:5])):\n",
    "    print(\"Step {:4d}\".format(i))\n",
    "    print(\"  input: {} ({:s})\".format(input_idx, repr(idx2char[input_idx])))\n",
    "    print(\"  expected output: {} ({:s})\".format(target_idx, repr(idx2char[target_idx])))"
   ]
  },
  {
   "cell_type": "markdown",
   "metadata": {
    "colab_type": "text",
    "id": "MJdfPmdqzf-R"
   },
   "source": [
    "### Create training batches\n",
    "\n",
    "We used `tf.data` to split the text into manageable sequences. But before feeding this data into the model, we need to shuffle the data and pack it into batches."
   ]
  },
  {
   "cell_type": "code",
   "execution_count": 79,
   "metadata": {
    "colab": {},
    "colab_type": "code",
    "id": "p2pGotuNzf-S"
   },
   "outputs": [
    {
     "data": {
      "text/plain": [
       "<BatchDataset shapes: ((64, 100), (64, 100)), types: (tf.int32, tf.int32)>"
      ]
     },
     "execution_count": 79,
     "metadata": {},
     "output_type": "execute_result"
    }
   ],
   "source": [
    "# Batch size\n",
    "BATCH_SIZE = 64\n",
    "\n",
    "# Buffer size to shuffle the dataset\n",
    "# (TF data is designed to work with possibly infinite sequences,\n",
    "# so it doesn't attempt to shuffle the entire sequence in memory. Instead,\n",
    "# it maintains a buffer in which it shuffles elements).\n",
    "BUFFER_SIZE = 10000\n",
    "\n",
    "dataset = dataset.shuffle(BUFFER_SIZE).batch(BATCH_SIZE, drop_remainder=True)\n",
    "\n",
    "dataset"
   ]
  },
  {
   "cell_type": "markdown",
   "metadata": {
    "colab_type": "text",
    "id": "r6oUuElIMgVx"
   },
   "source": [
    "## Build The Model"
   ]
  },
  {
   "cell_type": "markdown",
   "metadata": {
    "colab_type": "text",
    "id": "m8gPwEjRzf-Z"
   },
   "source": [
    "Use `tf.keras.Sequential` to define the model. For this simple example three layers are used to define our model:\n",
    "\n",
    "* `tf.keras.layers.Embedding`: The input layer. A trainable lookup table that will map the numbers of each character to a vector with `embedding_dim` dimensions;\n",
    "* `tf.keras.layers.GRU`: A type of RNN with size `units=rnn_units` (You can also use a LSTM layer here.)\n",
    "* `tf.keras.layers.Dense`: The output layer, with `vocab_size` outputs."
   ]
  },
  {
   "cell_type": "code",
   "execution_count": 80,
   "metadata": {
    "colab": {},
    "colab_type": "code",
    "id": "zHT8cLh7EAsg"
   },
   "outputs": [],
   "source": [
    "# Length of the vocabulary in chars\n",
    "vocab_size = len(vocab)\n",
    "\n",
    "# The embedding dimension\n",
    "embedding_dim = 256\n",
    "\n",
    "# Number of RNN units\n",
    "rnn_units = 1024"
   ]
  },
  {
   "cell_type": "code",
   "execution_count": 12,
   "metadata": {
    "colab": {},
    "colab_type": "code",
    "id": "MtCrdfzEI2N0"
   },
   "outputs": [],
   "source": [
    "def build_model(vocab_size, embedding_dim, rnn_units, batch_size):\n",
    "  model = tf.keras.Sequential([\n",
    "    tf.keras.layers.Embedding(vocab_size, embedding_dim,\n",
    "                              batch_input_shape=[batch_size, None]),\n",
    "    tf.keras.layers.GRU(rnn_units,\n",
    "                        return_sequences=True,\n",
    "                        stateful=True,\n",
    "                        recurrent_initializer='glorot_uniform'),\n",
    "    tf.keras.layers.Dense(vocab_size)\n",
    "  ])\n",
    "  return model"
   ]
  },
  {
   "cell_type": "code",
   "execution_count": 82,
   "metadata": {
    "colab": {},
    "colab_type": "code",
    "id": "wwsrpOik5zhv"
   },
   "outputs": [],
   "source": [
    "model = build_model(\n",
    "  vocab_size = len(vocab),\n",
    "  embedding_dim=embedding_dim,\n",
    "  rnn_units=rnn_units,\n",
    "  batch_size=BATCH_SIZE)"
   ]
  },
  {
   "cell_type": "markdown",
   "metadata": {
    "colab_type": "text",
    "id": "RkA5upJIJ7W7"
   },
   "source": [
    "For each character the model looks up the embedding, runs the GRU one timestep with the embedding as input, and applies the dense layer to generate logits predicting the log-likelihood of the next character:\n",
    "\n",
    "![A drawing of the data passing through the model](images/text_generation_training.png)"
   ]
  },
  {
   "cell_type": "markdown",
   "metadata": {
    "colab_type": "text",
    "id": "LJL0Q0YPY6Ee"
   },
   "source": [
    "## Train the model"
   ]
  },
  {
   "cell_type": "markdown",
   "metadata": {
    "colab_type": "text",
    "id": "YCbHQHiaa4Ic"
   },
   "source": [
    "At this point the problem can be treated as a standard classification problem. Given the previous RNN state, and the input this time step, predict the class of the next character."
   ]
  },
  {
   "cell_type": "markdown",
   "metadata": {
    "colab_type": "text",
    "id": "trpqTWyvk0nr"
   },
   "source": [
    "### Attach an optimizer, and a loss function"
   ]
  },
  {
   "cell_type": "markdown",
   "metadata": {
    "colab_type": "text",
    "id": "UAjbjY03eiQ4"
   },
   "source": [
    "The standard `tf.keras.losses.sparse_categorical_crossentropy` loss function works in this case because it is applied across the last dimension of the predictions.\n",
    "\n",
    "Because our model returns logits, we need to set the `from_logits` flag.\n"
   ]
  },
  {
   "cell_type": "code",
   "execution_count": 88,
   "metadata": {
    "colab": {},
    "colab_type": "code",
    "id": "4HrXTACTdzY-"
   },
   "outputs": [
    {
     "name": "stdout",
     "output_type": "stream",
     "text": [
      "Prediction shape:  (64, 100, 118)  # (batch_size, sequence_length, vocab_size)\n",
      "scalar_loss:       4.7728753\n"
     ]
    }
   ],
   "source": [
    "def loss(labels, logits):\n",
    "  return tf.keras.losses.sparse_categorical_crossentropy(labels, logits, from_logits=True)\n",
    "\n",
    "example_batch_loss  = loss(target_example_batch, example_batch_predictions)\n",
    "print(\"Prediction shape: \", example_batch_predictions.shape, \" # (batch_size, sequence_length, vocab_size)\")\n",
    "print(\"scalar_loss:      \", example_batch_loss.numpy().mean())"
   ]
  },
  {
   "cell_type": "markdown",
   "metadata": {
    "colab_type": "text",
    "id": "jeOXriLcymww"
   },
   "source": [
    "Configure the training procedure using the `tf.keras.Model.compile` method. We'll use `tf.keras.optimizers.Adam` with default arguments and the loss function."
   ]
  },
  {
   "cell_type": "code",
   "execution_count": 89,
   "metadata": {
    "colab": {},
    "colab_type": "code",
    "id": "DDl1_Een6rL0"
   },
   "outputs": [],
   "source": [
    "model.compile(optimizer='adam', loss=loss)"
   ]
  },
  {
   "cell_type": "markdown",
   "metadata": {
    "colab_type": "text",
    "id": "ieSJdchZggUj"
   },
   "source": [
    "### Configure checkpoints"
   ]
  },
  {
   "cell_type": "markdown",
   "metadata": {
    "colab_type": "text",
    "id": "C6XBUUavgF56"
   },
   "source": [
    "Use a `tf.keras.callbacks.ModelCheckpoint` to ensure that checkpoints are saved during training:"
   ]
  },
  {
   "cell_type": "code",
   "execution_count": 9,
   "metadata": {
    "colab": {},
    "colab_type": "code",
    "id": "W6fWTriUZP-n"
   },
   "outputs": [],
   "source": [
    "# Directory where the checkpoints will be saved\n",
    "checkpoint_dir = './training_checkpoints'\n",
    "# Name of the checkpoint files\n",
    "checkpoint_prefix = os.path.join(checkpoint_dir, \"ckpt_{epoch}\")\n",
    "\n",
    "checkpoint_callback=tf.keras.callbacks.ModelCheckpoint(\n",
    "    filepath=checkpoint_prefix,\n",
    "    save_weights_only=True)"
   ]
  },
  {
   "cell_type": "markdown",
   "metadata": {
    "colab_type": "text",
    "id": "3Ky3F_BhgkTW"
   },
   "source": [
    "### Execute the training"
   ]
  },
  {
   "cell_type": "markdown",
   "metadata": {
    "colab_type": "text",
    "id": "IxdOA-rgyGvs"
   },
   "source": [
    "To keep training time reasonable, use 10 epochs to train the model. In Colab, set the runtime to GPU for faster training."
   ]
  },
  {
   "cell_type": "code",
   "execution_count": 91,
   "metadata": {
    "colab": {},
    "colab_type": "code",
    "id": "7yGBE2zxMMHs"
   },
   "outputs": [],
   "source": [
    "EPOCHS=10"
   ]
  },
  {
   "cell_type": "code",
   "execution_count": 92,
   "metadata": {
    "colab": {},
    "colab_type": "code",
    "id": "UK-hmKjYVoll"
   },
   "outputs": [
    {
     "name": "stdout",
     "output_type": "stream",
     "text": [
      "Train for 99 steps\n",
      "Epoch 1/10\n",
      "99/99 [==============================] - 355s 4s/step - loss: 3.0115\n",
      "Epoch 2/10\n",
      "99/99 [==============================] - 319s 3s/step - loss: 2.2063\n",
      "Epoch 3/10\n",
      "99/99 [==============================] - 444s 4s/step - loss: 1.9966\n",
      "Epoch 4/10\n",
      "99/99 [==============================] - 496s 5s/step - loss: 1.8052\n",
      "Epoch 5/10\n",
      "99/99 [==============================] - 487s 5s/step - loss: 1.6499\n",
      "Epoch 6/10\n",
      "99/99 [==============================] - 490s 5s/step - loss: 1.5320\n",
      "Epoch 7/10\n",
      "99/99 [==============================] - 488s 5s/step - loss: 1.4431\n",
      "Epoch 8/10\n",
      "99/99 [==============================] - 488s 5s/step - loss: 1.3729\n",
      "Epoch 9/10\n",
      "99/99 [==============================] - 486s 5s/step - loss: 1.3159\n",
      "Epoch 10/10\n",
      "99/99 [==============================] - 486s 5s/step - loss: 1.2661\n"
     ]
    }
   ],
   "source": [
    "history = model.fit(dataset, epochs=EPOCHS, callbacks=[checkpoint_callback])"
   ]
  },
  {
   "cell_type": "markdown",
   "metadata": {
    "colab_type": "text",
    "id": "kKkD5M6eoSiN"
   },
   "source": [
    "## Generate text"
   ]
  },
  {
   "cell_type": "markdown",
   "metadata": {
    "colab_type": "text",
    "id": "JIPcXllKjkdr"
   },
   "source": [
    "### Restore the latest checkpoint"
   ]
  },
  {
   "cell_type": "markdown",
   "metadata": {
    "colab_type": "text",
    "id": "LyeYRiuVjodY"
   },
   "source": [
    "To keep this prediction step simple, use a batch size of 1.\n",
    "\n",
    "Because of the way the RNN state is passed from timestep to timestep, the model only accepts a fixed batch size once built.\n",
    "\n",
    "To run the model with a different `batch_size`, we need to rebuild the model and restore the weights from the checkpoint.\n"
   ]
  },
  {
   "cell_type": "code",
   "execution_count": 10,
   "metadata": {
    "colab": {},
    "colab_type": "code",
    "id": "zk2WJ2-XjkGz"
   },
   "outputs": [
    {
     "data": {
      "text/plain": [
       "'./training_checkpoints\\\\ckpt_10'"
      ]
     },
     "execution_count": 10,
     "metadata": {},
     "output_type": "execute_result"
    }
   ],
   "source": [
    "tf.train.latest_checkpoint(checkpoint_dir)"
   ]
  },
  {
   "cell_type": "code",
   "execution_count": 13,
   "metadata": {
    "colab": {},
    "colab_type": "code",
    "id": "LycQ-ot_jjyu"
   },
   "outputs": [
    {
     "ename": "NameError",
     "evalue": "name 'vocab_size' is not defined",
     "output_type": "error",
     "traceback": [
      "\u001b[1;31m---------------------------------------------------------------------------\u001b[0m",
      "\u001b[1;31mNameError\u001b[0m                                 Traceback (most recent call last)",
      "\u001b[1;32m<ipython-input-13-a74a19eb8de1>\u001b[0m in \u001b[0;36m<module>\u001b[1;34m\u001b[0m\n\u001b[1;32m----> 1\u001b[1;33m \u001b[0mmodel\u001b[0m \u001b[1;33m=\u001b[0m \u001b[0mbuild_model\u001b[0m\u001b[1;33m(\u001b[0m\u001b[0mvocab_size\u001b[0m\u001b[1;33m,\u001b[0m \u001b[0membedding_dim\u001b[0m\u001b[1;33m,\u001b[0m \u001b[0mrnn_units\u001b[0m\u001b[1;33m,\u001b[0m \u001b[0mbatch_size\u001b[0m\u001b[1;33m=\u001b[0m\u001b[1;36m1\u001b[0m\u001b[1;33m)\u001b[0m\u001b[1;33m\u001b[0m\u001b[1;33m\u001b[0m\u001b[0m\n\u001b[0m\u001b[0;32m      2\u001b[0m \u001b[1;33m\u001b[0m\u001b[0m\n\u001b[0;32m      3\u001b[0m \u001b[0mmodel\u001b[0m\u001b[1;33m.\u001b[0m\u001b[0mload_weights\u001b[0m\u001b[1;33m(\u001b[0m\u001b[0mtf\u001b[0m\u001b[1;33m.\u001b[0m\u001b[0mtrain\u001b[0m\u001b[1;33m.\u001b[0m\u001b[0mlatest_checkpoint\u001b[0m\u001b[1;33m(\u001b[0m\u001b[0mcheckpoint_dir\u001b[0m\u001b[1;33m)\u001b[0m\u001b[1;33m)\u001b[0m\u001b[1;33m\u001b[0m\u001b[1;33m\u001b[0m\u001b[0m\n\u001b[0;32m      4\u001b[0m \u001b[1;33m\u001b[0m\u001b[0m\n\u001b[0;32m      5\u001b[0m \u001b[0mmodel\u001b[0m\u001b[1;33m.\u001b[0m\u001b[0mbuild\u001b[0m\u001b[1;33m(\u001b[0m\u001b[0mtf\u001b[0m\u001b[1;33m.\u001b[0m\u001b[0mTensorShape\u001b[0m\u001b[1;33m(\u001b[0m\u001b[1;33m[\u001b[0m\u001b[1;36m1\u001b[0m\u001b[1;33m,\u001b[0m \u001b[1;32mNone\u001b[0m\u001b[1;33m]\u001b[0m\u001b[1;33m)\u001b[0m\u001b[1;33m)\u001b[0m\u001b[1;33m\u001b[0m\u001b[1;33m\u001b[0m\u001b[0m\n",
      "\u001b[1;31mNameError\u001b[0m: name 'vocab_size' is not defined"
     ]
    }
   ],
   "source": [
    "model = build_model(vocab_size, embedding_dim, rnn_units, batch_size=1)\n",
    "\n",
    "model.load_weights(tf.train.latest_checkpoint(checkpoint_dir))\n",
    "\n",
    "model.build(tf.TensorShape([1, None]))"
   ]
  },
  {
   "cell_type": "code",
   "execution_count": 107,
   "metadata": {
    "colab": {},
    "colab_type": "code",
    "id": "71xa6jnYVrAN"
   },
   "outputs": [
    {
     "name": "stdout",
     "output_type": "stream",
     "text": [
      "Model: \"sequential_6\"\n",
      "_________________________________________________________________\n",
      "Layer (type)                 Output Shape              Param #   \n",
      "=================================================================\n",
      "embedding_6 (Embedding)      (1, None, 256)            30208     \n",
      "_________________________________________________________________\n",
      "gru_6 (GRU)                  (1, None, 1024)           3938304   \n",
      "_________________________________________________________________\n",
      "dense_6 (Dense)              (1, None, 118)            120950    \n",
      "=================================================================\n",
      "Total params: 4,089,462\n",
      "Trainable params: 4,089,462\n",
      "Non-trainable params: 0\n",
      "_________________________________________________________________\n"
     ]
    }
   ],
   "source": [
    "model.summary()"
   ]
  },
  {
   "cell_type": "markdown",
   "metadata": {
    "colab_type": "text",
    "id": "DjGz1tDkzf-u"
   },
   "source": [
    "### The prediction loop\n",
    "\n",
    "The following code block generates the text:\n",
    "\n",
    "* It Starts by choosing a start string, initializing the RNN state and setting the number of characters to generate.\n",
    "\n",
    "* Get the prediction distribution of the next character using the start string and the RNN state.\n",
    "\n",
    "* Then, use a categorical distribution to calculate the index of the predicted character. Use this predicted character as our next input to the model.\n",
    "\n",
    "* The RNN state returned by the model is fed back into the model so that it now has more context, instead than only one word. After predicting the next word, the modified RNN states are again fed back into the model, which is how it learns as it gets more context from the previously predicted words.\n",
    "\n",
    "\n",
    "![To generate text the model's output is fed back to the input](images/text_generation_sampling.png)\n",
    "\n",
    "Looking at the generated text, you'll see the model knows when to capitalize, make paragraphs and imitates a Shakespeare-like writing vocabulary. With the small number of training epochs, it has not yet learned to form coherent sentences."
   ]
  },
  {
   "cell_type": "code",
   "execution_count": 138,
   "metadata": {},
   "outputs": [],
   "source": [
    "model.save('my_model.h5') "
   ]
  },
  {
   "cell_type": "code",
   "execution_count": 17,
   "metadata": {},
   "outputs": [
    {
     "name": "stdout",
     "output_type": "stream",
     "text": [
      "WARNING:tensorflow:No training configuration found in save file: the model was *not* compiled. Compile it manually.\n"
     ]
    }
   ],
   "source": [
    "import tensorflow as tf\n",
    "new_model = tf.keras.models.load_model('my_model.h5')"
   ]
  },
  {
   "cell_type": "code",
   "execution_count": 18,
   "metadata": {
    "colab": {},
    "colab_type": "code",
    "id": "WvuwZBX5Ogfd"
   },
   "outputs": [],
   "source": [
    "def generate_text(model, start_string):\n",
    "  # Evaluation step (generating text using the learned model)\n",
    "\n",
    "  # Number of characters to generate;\n",
    "  num_generate = round((150-50)*np.random.random_sample() + 50)\n",
    "\n",
    "  # Converting our start string to numbers (vectorizing)\n",
    "  input_eval = [char2idx[s] for s in start_string]\n",
    "  input_eval = tf.expand_dims(input_eval, 0)\n",
    "\n",
    "  # Empty string to store our results\n",
    "  text_generated = []\n",
    "\n",
    "  # Low temperatures results in more predictable text.\n",
    "  # Higher temperatures results in more surprising text.\n",
    "  # Experiment to find the best setting.\n",
    "  temperature = 1.0\n",
    "\n",
    "  # Here batch size == 1\n",
    "  model.reset_states()\n",
    "  for i in range(num_generate):\n",
    "      predictions = model(input_eval)\n",
    "      # remove the batch dimension\n",
    "      predictions = tf.squeeze(predictions, 0)\n",
    "\n",
    "      # using a categorical distribution to predict the word returned by the model\n",
    "      predictions = predictions / temperature\n",
    "      predicted_id = tf.random.categorical(predictions, num_samples=1)[-1,0].numpy()\n",
    "\n",
    "      # We pass the predicted word as the next input to the model\n",
    "      # along with the previous hidden state\n",
    "      input_eval = tf.expand_dims([predicted_id], 0)\n",
    "\n",
    "      text_generated.append(idx2char[predicted_id])\n",
    "\n",
    "  return (''.join(text_generated))"
   ]
  },
  {
   "cell_type": "code",
   "execution_count": 26,
   "metadata": {
    "colab": {},
    "colab_type": "code",
    "id": "ktovv0RFhrkn"
   },
   "outputs": [
    {
     "name": "stdout",
     "output_type": "stream",
     "text": [
      "s, que le temps ici, j'ai m'en fait rien a été ta fia\n"
     ]
    }
   ],
   "source": [
    "print(generate_text(new_model, start_string=\"bonjour\"))"
   ]
  },
  {
   "cell_type": "markdown",
   "metadata": {
    "colab_type": "text",
    "id": "AM2Uma_-yVIq"
   },
   "source": [
    "The easiest thing you can do to improve the results it to train it for longer (try `EPOCHS=30`).\n",
    "\n",
    "You can also experiment with a different start string, or try adding another RNN layer to improve the model's accuracy, or adjusting the temperature parameter to generate more or less random predictions."
   ]
  },
  {
   "cell_type": "markdown",
   "metadata": {
    "colab_type": "text",
    "id": "2xhh7vZ8qRYP"
   },
   "source": [
    "### <font color=\"red\">3. Mise en commun</font>"
   ]
  },
  {
   "cell_type": "markdown",
   "metadata": {
    "colab_type": "text",
    "id": "Z9L3exc5qRYQ"
   },
   "source": [
    "Vous avez maintenant tous les blocs nécessaires pour mettre en place le chatbot. Il suffit de les enchaîner :\n",
    "\n",
    "+ lecture et prétraitement 1 de la question de l'usager ;\n",
    "+ si pertinent, classification(s) de la question ; calcul(s) de similarité ;\n",
    "+ retour d'une réponse extraite de la base ou prétraitement 2 et génération d'une réponse originale."
   ]
  },
  {
   "cell_type": "code",
   "execution_count": 155,
   "metadata": {},
   "outputs": [
    {
     "name": "stdin",
     "output_type": "stream",
     "text": [
      "Bonjour\n",
      " dede\n"
     ]
    },
    {
     "name": "stdout",
     "output_type": "stream",
     "text": [
      "0.47\n",
      "r votre preuve, d'ann.\n",
      "Baisse-t-il ?\n",
      "Il nous a dit...\n",
      "Je vous suivais.\n",
      "Arriède)\n",
      "Au nomme Henvrey.\n",
      "Ployage.\n",
      "Vou\n"
     ]
    },
    {
     "name": "stdin",
     "output_type": "stream",
     "text": [
      "\n",
      "(Taper 0 pour quitter) hbjhb\n"
     ]
    },
    {
     "name": "stdout",
     "output_type": "stream",
     "text": [
      "0.59\n",
      "le piécoupeau.\n",
      "Sans tous !\n",
      "Ce tont fondrait se reposer les falbrêtués.\n",
      "Va feux, je viendrai.\n",
      "Allez.\n",
      "Allez\n"
     ]
    },
    {
     "name": "stdin",
     "output_type": "stream",
     "text": [
      "\n",
      "(Taper 0 pour quitter) 0\n"
     ]
    }
   ],
   "source": [
    "quest = str(input(\"Bonjour\\n\"))\n",
    "\n",
    "while(quest != \"0\"):\n",
    "    tableau = score_texte(quest)\n",
    "    warnings.filterwarnings('ignore')\n",
    "    print(max(tableau.iloc[:,1]))\n",
    "    if max(tableau.iloc[:,1].mean(axis=1)) > 0.67 :\n",
    "        res = data.loc[tableau.loc[tableau.iloc[:,1] == max(tableau.iloc[:,1])].index.item(),\"Reponse\"]\n",
    "    else :\n",
    "        res = generate_text(model, start_string=quest)\n",
    "    print(res)\n",
    "    quest = str(input(\"\\n(Taper 0 pour quitter)\"))"
   ]
  },
  {
   "cell_type": "markdown",
   "metadata": {
    "colab_type": "text",
    "id": "5cgeSxZ8qRYR"
   },
   "source": [
    "### <font color=\"red\">4. Optionnel et expérimental : déploiement de l'application dans une interface graphique</font>"
   ]
  },
  {
   "cell_type": "markdown",
   "metadata": {
    "colab_type": "text",
    "id": "0wFLOcxmqRYS"
   },
   "source": [
    "Cette étape est tout à fait optionnelle. N'y investissez pas votre temps au dépens des fonctionnalités de base de l'application.\n",
    "\n",
    "Si vous en avez le temps et l'envie, tentez de déployer votre chatbot sur Facebook Messenger. Un exemple de solution est présenté [ici](https://www.datacamp.com/community/tutorials/facebook-chatbot-python-deploy). À noter que cette solution ne permet de garder le chatbot actif que tant que le code est exécuté en local. Pour que l'agent reste \"éveillé\" en permanence il faudrait exécuter le code sur un serveur externe qui resterait actif."
   ]
  },
  {
   "cell_type": "markdown",
   "metadata": {},
   "source": [
    "Après avoir passé énormément de temps pour mettre en place l'interface graphique via Facebook Messenger et n'ayant aucun résultat. Nous avons préféré faire une fenêtre graphique à l'aide de Tkinter"
   ]
  },
  {
   "cell_type": "code",
   "execution_count": 30,
   "metadata": {},
   "outputs": [],
   "source": [
    "from tkinter import *\n",
    "\n",
    "window = Tk()\n",
    "\n",
    "input_user = StringVar()\n",
    "input_field = Entry(window, text=input_user,background=\"cornflower blue\")\n",
    "input_field.pack(side=BOTTOM, fill=X)\n",
    "\n",
    "def enter_pressed(event):\n",
    "    input_get = input_field.get()\n",
    "    quest = input_get\n",
    "    tableau = score_texte(quest)\n",
    "    \n",
    "    if max(tableau.iloc[:,1]) > 0.67 :\n",
    "        res = data.loc[tableau.loc[tableau.iloc[:,1] == max(tableau.iloc[:,1])].index.item(),\"Reponse\"]\n",
    "        new_res=\"\"\n",
    "        for i in range(0,len(res)): #permet de rajouter un saut de ligne tous les 60 caractères afin d'afficher proprement la réponse\n",
    "            if i % 60 ==0:\n",
    "                new_res = new_res + \"\\n\" + res[i]\n",
    "            else:\n",
    "                new_res = new_res + res[i]\n",
    "    else :\n",
    "        new_res = generate_text(new_model, start_string=quest)\n",
    "        \n",
    "    label = Label(frame, text=input_get,background=\"cornflower blue\", anchor='e',width=200)\n",
    "    champ_label = Label(frame, text=new_res,background=\"tan1\", anchor='w',width=200)\n",
    "    input_user.set('')\n",
    "    label.pack()\n",
    "    champ_label.pack()\n",
    "    return \"break\"\n",
    "\n",
    "\n",
    "frame = Frame(window, width=500, height=500)\n",
    "frame.pack_propagate(False) # prevent frame to resize to the labels size\n",
    "input_field.bind(\"<Return>\", enter_pressed)\n",
    "frame.pack()\n",
    "\n",
    "window.mainloop()"
   ]
  },
  {
   "cell_type": "markdown",
   "metadata": {
    "colab_type": "text",
    "id": "wbMjR00XqRYT"
   },
   "source": [
    "### Évaluation du système"
   ]
  },
  {
   "cell_type": "markdown",
   "metadata": {
    "colab_type": "text",
    "id": "9j-RwiNzqRYV"
   },
   "source": [
    "Le système consistant en plusieurs composantes de natures différentes, il est difficile de réaliser une évaluation quantitative automatique globale sur un jeu de test avec une vérité terrain. Il faudra évaluer chaque composante individuellement.\n",
    "\n",
    "En particulier, pour la partie orientée tâche :\n",
    "+ évaluation quantitative : créer un jeu de test (couples question-bonne réponse) et rapporter des mesures d'évaluation pertinentes : précision, rappel, F1 ;\n",
    "+ évaluation qualitative : analyse manuelle d'un échantillon d'erreurs sur le jeu de test : nature de l'erreur, quelle semble en être la cause, etc.\n",
    "\n",
    "La partie générative pourra être évaluée (avec l'ensemble du chatbot) par des utilisateurs, si vous êtes en mesure de constituer un petit échantillon de bénévoles désireux de tester votre bot. Dans ce cas demandez à vos utilisateurs, après avoir testé l'application, de répondre à un petit questionnaire avec quelques questions à échelle qui vous semblent pertinentes. Vous pouvez vous inspirer de la section 6 de [cet article](https://hal.archives-ouvertes.fr/hal-01309202/document) (évidemment, votre évaluation sera plus modeste). Cette évaluation est souhaitable, mais pas requise (s'il vous est impossible d'intéresser quelques utilisateurs). Il sera plus facile de faire tester l'application à des utilisateurs si elle est déployée dans une interface graphique."
   ]
  },
  {
   "cell_type": "markdown",
   "metadata": {
    "colab_type": "text",
    "id": "uJuSZ4afqRYW"
   },
   "source": [
    "### Rédaction d'un rapport"
   ]
  },
  {
   "cell_type": "markdown",
   "metadata": {
    "colab_type": "text",
    "id": "vB8_eCmdqRYX"
   },
   "source": [
    "Le rapport doit aborder les points suivants :\n",
    "+ Indiquez le lien vers un répertoire GitHub contenant vos différents fichiers `.py` et `pickle` et vos données.\n",
    "+ Si pertinent, indiquez le lien vers votre chatbot sur Facebook Messenger.\n",
    "+ Décrivez :\n",
    "  + l'architecture et le fonctionnement de votre bot ;\n",
    "  + la mise en oeuvre : votre approche pour les différentes composantes, vos choix et leur justification ;\n",
    "  + la procédure d'évaluation et les résultats des évaluations que vous avez menées sur les différentes composantes.\n",
    "+ Donnez votre ressenti personnel : comment trouvez-vous la performance du bot, quelles limites et points forts y voyez-vous, quelles difficultés avez-vous rencontrées dans la mise en oeuvre, qu'est-ce que vous aimeriez améliorer, etc."
   ]
  },
  {
   "cell_type": "markdown",
   "metadata": {
    "colab_type": "text",
    "id": "XbJuwtrWqRYY"
   },
   "source": [
    "## Suggestions"
   ]
  },
  {
   "cell_type": "markdown",
   "metadata": {
    "colab_type": "text",
    "id": "RNC22LqtqRYZ"
   },
   "source": [
    "+ Vous êtes libres d'utiliser les approches que vous souhaitez : symboliques (règles, p. ex. expressions régulières), statistiques (apprentissage supervisé classique ou deep learning si vous avez suffisamment de données), un mélange des deux...\n",
    "+ Vous pouvez également utiliser toutes les librairies et les modèles pré-entraînés qui vous semblent intéressants (par exemple les modèles statistiques de `spacy`, d'autres vecteurs pré-appris, etc.).\n",
    "+ N'hésitez pas à être créatifs si vous avez d'autres idées de fonctionnalités que vous aimeriez intégrer."
   ]
  },
  {
   "cell_type": "markdown",
   "metadata": {
    "colab_type": "text",
    "id": "ej1THztQqRYa"
   },
   "source": [
    "## Critères d'évaluation du projet"
   ]
  },
  {
   "cell_type": "markdown",
   "metadata": {
    "colab_type": "text",
    "id": "DVXpAqL4qRYb"
   },
   "source": [
    "+ Le bot fonctionne sans planter et fournit une réponse à toute sollicitation de l'usager.\n",
    "+ Les réponses du bot sont globalement acceptables. On ne s'attendra pas à une très bonne performance, vu le peu de données disponibles pour la partie orientée tâche.\n",
    "+ Toutes les fonctionnalités demandées ont été mises en oeuvre.\n",
    "+ Le code est bien modularisé (fonctions, classes, modules selon les besoins).\n",
    "+ Le code est correct du point de vue sémantique et syntaxique.\n",
    "+ Le code est propre, lisible et bien annoté là où c'est nécessaire.\n",
    "+ Une évaluation quantitative et qualitative a été réalisée.\n",
    "+ Le rapport aborde tous les points requis avec suffisamment de détail.\n",
    "+ Si pertinent : les sources sont citées (code, billets de blog, autres publications).\n",
    "+ Bonus : des fonctionnalités supplémentaires ont été mises en oeuvre.\n",
    "+ (Bonus : le chatbot est déployé dans une interface utilisateur. Impossible à évaluer si pas actif en permanence.)\n",
    "+ Bonus : les TD ont bien été soumis au cours du semestre."
   ]
  },
  {
   "cell_type": "markdown",
   "metadata": {
    "colab_type": "text",
    "id": "uaq1TelCqRYd"
   },
   "source": [
    "## Aspects pratiques"
   ]
  },
  {
   "cell_type": "markdown",
   "metadata": {
    "colab_type": "text",
    "id": "9rHVVUUHqRYf"
   },
   "source": [
    "### Travail en groupes"
   ]
  },
  {
   "cell_type": "markdown",
   "metadata": {
    "colab_type": "text",
    "id": "24c4-vslqRYg"
   },
   "source": [
    "+ Min 2, max 4 personnes par groupe\n",
    "+ Composition des groupes à renseigner [ici](https://docs.google.com/spreadsheets/d/1TJOOG5zNrJ-7UZKVNGfV7rb704pDxSlEG2hTFGb5VM8/edit?usp=sharing) avant le lundi 2 décembre (il est possible de changer de groupe par la suite pour des raisons justifiées, sans pour autant en abuser)"
   ]
  },
  {
   "cell_type": "markdown",
   "metadata": {
    "colab_type": "text",
    "id": "V4fCJTwPqRYh"
   },
   "source": [
    "### Fichiers à soumettre"
   ]
  },
  {
   "cell_type": "markdown",
   "metadata": {
    "colab_type": "text",
    "id": "30qXpVbKqRYi"
   },
   "source": [
    "Rapport au format `pdf`"
   ]
  },
  {
   "cell_type": "markdown",
   "metadata": {
    "colab_type": "text",
    "id": "FtKpPNllqRYk"
   },
   "source": [
    "### Modalité"
   ]
  },
  {
   "cell_type": "markdown",
   "metadata": {
    "colab_type": "text",
    "id": "RJSdqdZlqRYl"
   },
   "source": [
    "Sur Cursus, dans l'espace du cours Fouille de textes, lien \"Soumission du projet\""
   ]
  },
  {
   "cell_type": "markdown",
   "metadata": {
    "colab_type": "text",
    "id": "G6ZlwBXrqRYn"
   },
   "source": [
    "### Date limite"
   ]
  },
  {
   "cell_type": "markdown",
   "metadata": {
    "colab_type": "text",
    "id": "OKMhfwPMqRYo"
   },
   "source": [
    "Vendredi 31 janvier 2020, 19h"
   ]
  },
  {
   "cell_type": "markdown",
   "metadata": {
    "colab_type": "text",
    "id": "hFbgVMENqRYp"
   },
   "source": [
    "## Pour aller plus loin..."
   ]
  },
  {
   "cell_type": "markdown",
   "metadata": {
    "colab_type": "text",
    "id": "-XMy0KXXqRYq"
   },
   "source": [
    "Des approches, idées et outils à explorer pour la suite si vous êtes intéressés par le sujet :\n",
    "+ Frameworks et librairies pour agents de dialogue :\n",
    "    + https://rasa.com/docs/, https://github.com/RasaHQ/rasa\n",
    "    + https://dialogflow.com/ (Google, closed source, API)\n",
    "    + https://parl.ai/, https://github.com/facebookresearch/ParlAI (Facebook (FAIR), open source)\n",
    "    + https://labs.cognitive.microsoft.com/en-us/project-conversation-learner, https://github.com/Microsoft/ConversationLearner-samples (Microsoft)\n",
    "    + https://chatterbot.readthedocs.io/en/stable/, https://github.com/gunthercox/ChatterBot\n",
    "\n",
    "+ Tutoriels :\n",
    "    + http://www.ruiyan.me/pubs/tutorial-emnlp18.pdf\n",
    "    + https://icml.cc/media/Slides/icml/2019/grandball(10-09-15)-10-13-00-4342-neural_approach.pdf (et en version rédigée : https://arxiv.org/abs/1809.08267)\n",
    "\n",
    "+ Jeux de données pour les agents conversationnels :\n",
    "    + https://github.com/sebastianruder/NLP-progress/blob/master/english/dialogue.md\n",
    "    + https://breakend.github.io/DialogDatasets/\n",
    "    + https://parl.ai/docs/tasks.html\n",
    "    + https://arxiv.org/abs/1904.06472, https://github.com/PolyAI-LDN/conversational-datasets\n",
    "    + https://www.microsoft.com/en-us/research/event/dialog-state-tracking-challenge/\n",
    "    + https://github.com/google-research-datasets/dstc8-schema-guided-dialogue"
   ]
  }
 ],
 "metadata": {
  "colab": {
   "name": "Copy of m2mas_projet_2019-2020.ipynb",
   "provenance": []
  },
  "kernelspec": {
   "display_name": "Python 3",
   "language": "python",
   "name": "python3"
  },
  "language_info": {
   "codemirror_mode": {
    "name": "ipython",
    "version": 3
   },
   "file_extension": ".py",
   "mimetype": "text/x-python",
   "name": "python",
   "nbconvert_exporter": "python",
   "pygments_lexer": "ipython3",
   "version": "3.7.1"
  }
 },
 "nbformat": 4,
 "nbformat_minor": 4
}
